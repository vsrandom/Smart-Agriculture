{
 "cells": [
  {
   "cell_type": "code",
   "execution_count": 14,
   "metadata": {},
   "outputs": [],
   "source": [
    "import numpy as np\n",
    "import pandas as pd\n",
    "import seaborn as sns\n",
    "import matplotlib.pyplot as plt\n",
    "import statsmodels.api as sm\n",
    "from sklearn.model_selection import train_test_split\n",
    "from sklearn.metrics import r2_score,mean_squared_error"
   ]
  },
  {
   "cell_type": "code",
   "execution_count": 15,
   "metadata": {},
   "outputs": [],
   "source": [
    "df=pd.read_csv('../data/Weather_vs_Pixel_Area.csv')\n",
    "df=df.drop('Unnamed: 0',1)"
   ]
  },
  {
   "cell_type": "code",
   "execution_count": 18,
   "metadata": {},
   "outputs": [
    {
     "data": {
      "text/html": [
       "<div>\n",
       "<style scoped>\n",
       "    .dataframe tbody tr th:only-of-type {\n",
       "        vertical-align: middle;\n",
       "    }\n",
       "\n",
       "    .dataframe tbody tr th {\n",
       "        vertical-align: top;\n",
       "    }\n",
       "\n",
       "    .dataframe thead th {\n",
       "        text-align: right;\n",
       "    }\n",
       "</style>\n",
       "<table border=\"1\" class=\"dataframe\">\n",
       "  <thead>\n",
       "    <tr style=\"text-align: right;\">\n",
       "      <th></th>\n",
       "      <th>BME280_Humidity</th>\n",
       "      <th>BME280_Pressure</th>\n",
       "      <th>BME280_Temp</th>\n",
       "      <th>DS18B20_Temp</th>\n",
       "      <th>Date</th>\n",
       "      <th>Intensity</th>\n",
       "      <th>Spinach_Area</th>\n",
       "      <th>Potato_Area</th>\n",
       "    </tr>\n",
       "  </thead>\n",
       "  <tbody>\n",
       "    <tr>\n",
       "      <th>0</th>\n",
       "      <td>54.00</td>\n",
       "      <td>898.84</td>\n",
       "      <td>30.25</td>\n",
       "      <td>23.62</td>\n",
       "      <td>2019-10-26 13:11:25</td>\n",
       "      <td>2011.0</td>\n",
       "      <td>126</td>\n",
       "      <td>890</td>\n",
       "    </tr>\n",
       "    <tr>\n",
       "      <th>1</th>\n",
       "      <td>54.04</td>\n",
       "      <td>898.64</td>\n",
       "      <td>30.02</td>\n",
       "      <td>23.62</td>\n",
       "      <td>2019-10-26 13:26:32</td>\n",
       "      <td>1797.0</td>\n",
       "      <td>398</td>\n",
       "      <td>1413</td>\n",
       "    </tr>\n",
       "    <tr>\n",
       "      <th>2</th>\n",
       "      <td>53.66</td>\n",
       "      <td>898.40</td>\n",
       "      <td>29.86</td>\n",
       "      <td>23.19</td>\n",
       "      <td>2019-10-26 13:41:39</td>\n",
       "      <td>1694.0</td>\n",
       "      <td>244</td>\n",
       "      <td>962</td>\n",
       "    </tr>\n",
       "    <tr>\n",
       "      <th>3</th>\n",
       "      <td>53.50</td>\n",
       "      <td>898.20</td>\n",
       "      <td>29.96</td>\n",
       "      <td>23.25</td>\n",
       "      <td>2019-10-26 13:56:47</td>\n",
       "      <td>1614.0</td>\n",
       "      <td>1159</td>\n",
       "      <td>2538</td>\n",
       "    </tr>\n",
       "    <tr>\n",
       "      <th>4</th>\n",
       "      <td>53.42</td>\n",
       "      <td>898.04</td>\n",
       "      <td>29.93</td>\n",
       "      <td>22.81</td>\n",
       "      <td>2019-10-26 14:11:54</td>\n",
       "      <td>1512.0</td>\n",
       "      <td>324</td>\n",
       "      <td>2880</td>\n",
       "    </tr>\n",
       "  </tbody>\n",
       "</table>\n",
       "</div>"
      ],
      "text/plain": [
       "   BME280_Humidity  BME280_Pressure  BME280_Temp  DS18B20_Temp  \\\n",
       "0            54.00           898.84        30.25         23.62   \n",
       "1            54.04           898.64        30.02         23.62   \n",
       "2            53.66           898.40        29.86         23.19   \n",
       "3            53.50           898.20        29.96         23.25   \n",
       "4            53.42           898.04        29.93         22.81   \n",
       "\n",
       "                  Date  Intensity  Spinach_Area  Potato_Area  \n",
       "0  2019-10-26 13:11:25     2011.0           126          890  \n",
       "1  2019-10-26 13:26:32     1797.0           398         1413  \n",
       "2  2019-10-26 13:41:39     1694.0           244          962  \n",
       "3  2019-10-26 13:56:47     1614.0          1159         2538  \n",
       "4  2019-10-26 14:11:54     1512.0           324         2880  "
      ]
     },
     "execution_count": 18,
     "metadata": {},
     "output_type": "execute_result"
    }
   ],
   "source": [
    "df.head()"
   ]
  },
  {
   "cell_type": "code",
   "execution_count": 19,
   "metadata": {},
   "outputs": [],
   "source": [
    "def avearge(l,y,x):\n",
    "    sum=0.0;\n",
    "    for i in range(x,y+1):\n",
    "        sum=sum+l[i]\n",
    "    return (sum/(y-x+1))"
   ]
  },
  {
   "cell_type": "code",
   "execution_count": 20,
   "metadata": {},
   "outputs": [
    {
     "ename": "NameError",
     "evalue": "name 'Normalize' is not defined",
     "output_type": "error",
     "traceback": [
      "\u001b[0;31m---------------------------------------------------------------------------\u001b[0m",
      "\u001b[0;31mNameError\u001b[0m                                 Traceback (most recent call last)",
      "\u001b[0;32m<ipython-input-20-195b8db722b1>\u001b[0m in \u001b[0;36m<module>\u001b[0;34m\u001b[0m\n\u001b[1;32m     18\u001b[0m     \u001b[0mdic\u001b[0m\u001b[0;34m[\u001b[0m\u001b[0;34m'Potato_Area'\u001b[0m\u001b[0;34m]\u001b[0m\u001b[0;34m=\u001b[0m\u001b[0mpa\u001b[0m\u001b[0;34m[\u001b[0m\u001b[0mi\u001b[0m\u001b[0;34m]\u001b[0m\u001b[0;34m\u001b[0m\u001b[0;34m\u001b[0m\u001b[0m\n\u001b[1;32m     19\u001b[0m     \u001b[0mdata\u001b[0m\u001b[0;34m=\u001b[0m\u001b[0mdata\u001b[0m\u001b[0;34m.\u001b[0m\u001b[0mappend\u001b[0m\u001b[0;34m(\u001b[0m\u001b[0mdic\u001b[0m\u001b[0;34m,\u001b[0m\u001b[0mignore_index\u001b[0m\u001b[0;34m=\u001b[0m\u001b[0;32mTrue\u001b[0m\u001b[0;34m)\u001b[0m\u001b[0;34m\u001b[0m\u001b[0;34m\u001b[0m\u001b[0m\n\u001b[0;32m---> 20\u001b[0;31m \u001b[0mdata\u001b[0m\u001b[0;34m=\u001b[0m\u001b[0mdata\u001b[0m\u001b[0;34m.\u001b[0m\u001b[0mapply\u001b[0m\u001b[0;34m(\u001b[0m\u001b[0mNormalize\u001b[0m\u001b[0;34m)\u001b[0m\u001b[0;34m\u001b[0m\u001b[0;34m\u001b[0m\u001b[0m\n\u001b[0m\u001b[1;32m     21\u001b[0m \u001b[0;31m# data.to_csv('Weather_vs_Pixel_Area_10days.csv')\u001b[0m\u001b[0;34m\u001b[0m\u001b[0;34m\u001b[0m\u001b[0;34m\u001b[0m\u001b[0m\n\u001b[1;32m     22\u001b[0m \u001b[0mdata\u001b[0m\u001b[0;34m.\u001b[0m\u001b[0mcorr\u001b[0m\u001b[0;34m(\u001b[0m\u001b[0;34m)\u001b[0m\u001b[0;34m\u001b[0m\u001b[0;34m\u001b[0m\u001b[0m\n",
      "\u001b[0;31mNameError\u001b[0m: name 'Normalize' is not defined"
     ]
    }
   ],
   "source": [
    "h=np.array(df.BME280_Humidity)\n",
    "p=np.array(df.BME280_Pressure)\n",
    "t=np.array(df.BME280_Temp)\n",
    "inten=np.array(df.Intensity)\n",
    "sa=np.array(df.Spinach_Area)\n",
    "pa=np.array(df.Potato_Area)\n",
    "data=pd.DataFrame()\n",
    "\n",
    "j=80\n",
    "j2=int((j/2) + 1) \n",
    "for i in range(j,len(h)):\n",
    "    dic={}\n",
    "    dic['BME280_Humidity']=avearge(h,i-j2,i-j)\n",
    "    dic['BME280_Pressure']=avearge(p,i-j2,i-j)\n",
    "    dic['BME280_Temp']=avearge(t,i-j2,i-j)\n",
    "    dic['Intensity']=avearge(inten,i-j2,i-j)\n",
    "    dic['Spinach_Area']=sa[i]\n",
    "    dic['Potato_Area']=pa[i]\n",
    "    data=data.append(dic,ignore_index=True)\n",
    "# data=data.apply(Normalize)\n",
    "# data.to_csv('Weather_vs_Pixel_Area_10days.csv')\n",
    "data.corr()"
   ]
  },
  {
   "cell_type": "code",
   "execution_count": null,
   "metadata": {},
   "outputs": [],
   "source": []
  }
 ],
 "metadata": {
  "kernelspec": {
   "display_name": "Python 3",
   "language": "python",
   "name": "python3"
  },
  "language_info": {
   "codemirror_mode": {
    "name": "ipython",
    "version": 3
   },
   "file_extension": ".py",
   "mimetype": "text/x-python",
   "name": "python",
   "nbconvert_exporter": "python",
   "pygments_lexer": "ipython3",
   "version": "3.6.9"
  }
 },
 "nbformat": 4,
 "nbformat_minor": 2
}
