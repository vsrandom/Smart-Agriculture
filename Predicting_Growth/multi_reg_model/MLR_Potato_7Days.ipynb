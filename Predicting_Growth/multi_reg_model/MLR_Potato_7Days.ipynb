{
 "cells": [
  {
   "cell_type": "markdown",
   "metadata": {},
   "source": [
    "# Importing Required Python Libraries"
   ]
  },
  {
   "cell_type": "code",
   "execution_count": 1,
   "metadata": {},
   "outputs": [],
   "source": [
    "import numpy as np\n",
    "import pandas as pd\n",
    "import seaborn as sns\n",
    "import matplotlib.pyplot as plt\n",
    "import statsmodels.api as sm\n",
    "from sklearn.model_selection import train_test_split\n",
    "from sklearn.metrics import r2_score,mean_squared_error"
   ]
  },
  {
   "cell_type": "code",
   "execution_count": 2,
   "metadata": {},
   "outputs": [
    {
     "data": {
      "text/html": [
       "<div>\n",
       "<style scoped>\n",
       "    .dataframe tbody tr th:only-of-type {\n",
       "        vertical-align: middle;\n",
       "    }\n",
       "\n",
       "    .dataframe tbody tr th {\n",
       "        vertical-align: top;\n",
       "    }\n",
       "\n",
       "    .dataframe thead th {\n",
       "        text-align: right;\n",
       "    }\n",
       "</style>\n",
       "<table border=\"1\" class=\"dataframe\">\n",
       "  <thead>\n",
       "    <tr style=\"text-align: right;\">\n",
       "      <th></th>\n",
       "      <th>Unnamed: 0</th>\n",
       "      <th>BME280_Humidity</th>\n",
       "      <th>BME280_Pressure</th>\n",
       "      <th>BME280_Temp</th>\n",
       "      <th>Intensity</th>\n",
       "      <th>Potato_Area</th>\n",
       "      <th>Spinach_Area</th>\n",
       "    </tr>\n",
       "  </thead>\n",
       "  <tbody>\n",
       "    <tr>\n",
       "      <th>0</th>\n",
       "      <td>0</td>\n",
       "      <td>1.000000</td>\n",
       "      <td>0.739124</td>\n",
       "      <td>1.000000</td>\n",
       "      <td>1.000000</td>\n",
       "      <td>0.931285</td>\n",
       "      <td>0.365675</td>\n",
       "    </tr>\n",
       "    <tr>\n",
       "      <th>1</th>\n",
       "      <td>1</td>\n",
       "      <td>0.967659</td>\n",
       "      <td>0.709110</td>\n",
       "      <td>0.996632</td>\n",
       "      <td>0.959350</td>\n",
       "      <td>0.642971</td>\n",
       "      <td>0.349312</td>\n",
       "    </tr>\n",
       "    <tr>\n",
       "      <th>2</th>\n",
       "      <td>2</td>\n",
       "      <td>0.936402</td>\n",
       "      <td>0.683189</td>\n",
       "      <td>0.992992</td>\n",
       "      <td>0.922397</td>\n",
       "      <td>0.487944</td>\n",
       "      <td>0.276582</td>\n",
       "    </tr>\n",
       "    <tr>\n",
       "      <th>3</th>\n",
       "      <td>3</td>\n",
       "      <td>0.909391</td>\n",
       "      <td>0.662725</td>\n",
       "      <td>0.987886</td>\n",
       "      <td>0.886061</td>\n",
       "      <td>0.637705</td>\n",
       "      <td>0.379229</td>\n",
       "    </tr>\n",
       "    <tr>\n",
       "      <th>4</th>\n",
       "      <td>4</td>\n",
       "      <td>0.885993</td>\n",
       "      <td>0.645293</td>\n",
       "      <td>0.980417</td>\n",
       "      <td>0.850078</td>\n",
       "      <td>0.759042</td>\n",
       "      <td>0.444082</td>\n",
       "    </tr>\n",
       "  </tbody>\n",
       "</table>\n",
       "</div>"
      ],
      "text/plain": [
       "   Unnamed: 0  BME280_Humidity  BME280_Pressure  BME280_Temp  Intensity  \\\n",
       "0           0         1.000000         0.739124     1.000000   1.000000   \n",
       "1           1         0.967659         0.709110     0.996632   0.959350   \n",
       "2           2         0.936402         0.683189     0.992992   0.922397   \n",
       "3           3         0.909391         0.662725     0.987886   0.886061   \n",
       "4           4         0.885993         0.645293     0.980417   0.850078   \n",
       "\n",
       "   Potato_Area  Spinach_Area  \n",
       "0     0.931285      0.365675  \n",
       "1     0.642971      0.349312  \n",
       "2     0.487944      0.276582  \n",
       "3     0.637705      0.379229  \n",
       "4     0.759042      0.444082  "
      ]
     },
     "execution_count": 2,
     "metadata": {},
     "output_type": "execute_result"
    }
   ],
   "source": [
    "data=pd.read_csv('../data/Weather_vs_Pixel_Area_7days.csv')\n",
    "data.head()"
   ]
  },
  {
   "cell_type": "code",
   "execution_count": 4,
   "metadata": {},
   "outputs": [],
   "source": [
    "data=data.drop('Unnamed: 0',1)"
   ]
  },
  {
   "cell_type": "code",
   "execution_count": 6,
   "metadata": {},
   "outputs": [
    {
     "data": {
      "text/html": [
       "<div>\n",
       "<style scoped>\n",
       "    .dataframe tbody tr th:only-of-type {\n",
       "        vertical-align: middle;\n",
       "    }\n",
       "\n",
       "    .dataframe tbody tr th {\n",
       "        vertical-align: top;\n",
       "    }\n",
       "\n",
       "    .dataframe thead th {\n",
       "        text-align: right;\n",
       "    }\n",
       "</style>\n",
       "<table border=\"1\" class=\"dataframe\">\n",
       "  <thead>\n",
       "    <tr style=\"text-align: right;\">\n",
       "      <th></th>\n",
       "      <th>BME280_Humidity</th>\n",
       "      <th>BME280_Pressure</th>\n",
       "      <th>BME280_Temp</th>\n",
       "      <th>Intensity</th>\n",
       "      <th>Potato_Area</th>\n",
       "      <th>Spinach_Area</th>\n",
       "    </tr>\n",
       "  </thead>\n",
       "  <tbody>\n",
       "    <tr>\n",
       "      <th>BME280_Humidity</th>\n",
       "      <td>1.000</td>\n",
       "      <td>0.747</td>\n",
       "      <td>0.364</td>\n",
       "      <td>0.667</td>\n",
       "      <td>0.697</td>\n",
       "      <td>0.198</td>\n",
       "    </tr>\n",
       "    <tr>\n",
       "      <th>BME280_Pressure</th>\n",
       "      <td>0.747</td>\n",
       "      <td>1.000</td>\n",
       "      <td>0.403</td>\n",
       "      <td>0.572</td>\n",
       "      <td>0.457</td>\n",
       "      <td>0.192</td>\n",
       "    </tr>\n",
       "    <tr>\n",
       "      <th>BME280_Temp</th>\n",
       "      <td>0.364</td>\n",
       "      <td>0.403</td>\n",
       "      <td>1.000</td>\n",
       "      <td>0.907</td>\n",
       "      <td>0.380</td>\n",
       "      <td>-0.133</td>\n",
       "    </tr>\n",
       "    <tr>\n",
       "      <th>Intensity</th>\n",
       "      <td>0.667</td>\n",
       "      <td>0.572</td>\n",
       "      <td>0.907</td>\n",
       "      <td>1.000</td>\n",
       "      <td>0.606</td>\n",
       "      <td>0.017</td>\n",
       "    </tr>\n",
       "    <tr>\n",
       "      <th>Potato_Area</th>\n",
       "      <td>0.697</td>\n",
       "      <td>0.457</td>\n",
       "      <td>0.380</td>\n",
       "      <td>0.606</td>\n",
       "      <td>1.000</td>\n",
       "      <td>0.661</td>\n",
       "    </tr>\n",
       "    <tr>\n",
       "      <th>Spinach_Area</th>\n",
       "      <td>0.198</td>\n",
       "      <td>0.192</td>\n",
       "      <td>-0.133</td>\n",
       "      <td>0.017</td>\n",
       "      <td>0.661</td>\n",
       "      <td>1.000</td>\n",
       "    </tr>\n",
       "  </tbody>\n",
       "</table>\n",
       "</div>"
      ],
      "text/plain": [
       "                 BME280_Humidity  BME280_Pressure  BME280_Temp  Intensity  \\\n",
       "BME280_Humidity            1.000            0.747        0.364      0.667   \n",
       "BME280_Pressure            0.747            1.000        0.403      0.572   \n",
       "BME280_Temp                0.364            0.403        1.000      0.907   \n",
       "Intensity                  0.667            0.572        0.907      1.000   \n",
       "Potato_Area                0.697            0.457        0.380      0.606   \n",
       "Spinach_Area               0.198            0.192       -0.133      0.017   \n",
       "\n",
       "                 Potato_Area  Spinach_Area  \n",
       "BME280_Humidity        0.697         0.198  \n",
       "BME280_Pressure        0.457         0.192  \n",
       "BME280_Temp            0.380        -0.133  \n",
       "Intensity              0.606         0.017  \n",
       "Potato_Area            1.000         0.661  \n",
       "Spinach_Area           0.661         1.000  "
      ]
     },
     "execution_count": 6,
     "metadata": {},
     "output_type": "execute_result"
    }
   ],
   "source": [
    "round(data.corr(),3)"
   ]
  },
  {
   "cell_type": "code",
   "execution_count": 7,
   "metadata": {},
   "outputs": [],
   "source": [
    "x=data[['BME280_Humidity','BME280_Pressure','BME280_Temp','Intensity']]\n",
    "y=data['Potato_Area']"
   ]
  },
  {
   "cell_type": "code",
   "execution_count": 8,
   "metadata": {},
   "outputs": [],
   "source": [
    "x_train,x_test,y_train,y_test=train_test_split(x,y,train_size=0.6,random_state=100)"
   ]
  },
  {
   "cell_type": "code",
   "execution_count": 9,
   "metadata": {},
   "outputs": [],
   "source": [
    "x_train_sm=x_train\n",
    "y_train_sm=y_train\n",
    "x_train_sm=sm.add_constant(x_train_sm)\n",
    "lm_1=sm.OLS(y_train_sm,x_train_sm).fit()"
   ]
  },
  {
   "cell_type": "code",
   "execution_count": 10,
   "metadata": {},
   "outputs": [
    {
     "name": "stdout",
     "output_type": "stream",
     "text": [
      "                            OLS Regression Results                            \n",
      "==============================================================================\n",
      "Dep. Variable:            Potato_Area   R-squared:                       0.532\n",
      "Model:                            OLS   Adj. R-squared:                  0.501\n",
      "Method:                 Least Squares   F-statistic:                     17.34\n",
      "Date:                Fri, 03 Jul 2020   Prob (F-statistic):           1.51e-09\n",
      "Time:                        19:04:22   Log-Likelihood:                 11.606\n",
      "No. Observations:                  66   AIC:                            -13.21\n",
      "Df Residuals:                      61   BIC:                            -2.263\n",
      "Df Model:                           4                                         \n",
      "Covariance Type:            nonrobust                                         \n",
      "===================================================================================\n",
      "                      coef    std err          t      P>|t|      [0.025      0.975]\n",
      "-----------------------------------------------------------------------------------\n",
      "const               0.0457      0.096      0.477      0.635      -0.146       0.237\n",
      "BME280_Humidity     0.4146      0.322      1.289      0.202      -0.229       1.058\n",
      "BME280_Pressure    -0.0630      0.175     -0.359      0.721      -0.414       0.288\n",
      "BME280_Temp        -0.2947      0.276     -1.066      0.291      -0.847       0.258\n",
      "Intensity           0.8241      0.473      1.742      0.086      -0.122       1.770\n",
      "==============================================================================\n",
      "Omnibus:                       10.926   Durbin-Watson:                   2.055\n",
      "Prob(Omnibus):                  0.004   Jarque-Bera (JB):               10.924\n",
      "Skew:                           0.893   Prob(JB):                      0.00424\n",
      "Kurtosis:                       3.883   Cond. No.                         33.2\n",
      "==============================================================================\n",
      "\n",
      "Warnings:\n",
      "[1] Standard Errors assume that the covariance matrix of the errors is correctly specified.\n"
     ]
    }
   ],
   "source": [
    "print(lm_1.summary())"
   ]
  },
  {
   "cell_type": "markdown",
   "metadata": {},
   "source": [
    "# Checking Multicollinearity via VIF"
   ]
  },
  {
   "cell_type": "code",
   "execution_count": 11,
   "metadata": {},
   "outputs": [],
   "source": [
    "# UDF for calculating vif value\n",
    "def vif_cal(input_data, dependent_col):\n",
    "    vif_df = pd.DataFrame( columns = ['Var', 'Vif'])\n",
    "    x_vars=input_data.drop([dependent_col], axis=1)\n",
    "    xvar_names=x_vars.columns\n",
    "    for i in range(0,xvar_names.shape[0]):\n",
    "        y=x_vars[xvar_names[i]] \n",
    "        x=x_vars[xvar_names.drop(xvar_names[i])]\n",
    "        rsq=sm.OLS(y,x).fit().rsquared  \n",
    "        vif=round(1/(1-rsq),2)\n",
    "        vif_df.loc[i] = [xvar_names[i], vif]\n",
    "    return vif_df.sort_values(by = 'Vif', axis=0, ascending=False, inplace=False)"
   ]
  },
  {
   "cell_type": "code",
   "execution_count": 12,
   "metadata": {},
   "outputs": [
    {
     "data": {
      "text/html": [
       "<div>\n",
       "<style scoped>\n",
       "    .dataframe tbody tr th:only-of-type {\n",
       "        vertical-align: middle;\n",
       "    }\n",
       "\n",
       "    .dataframe tbody tr th {\n",
       "        vertical-align: top;\n",
       "    }\n",
       "\n",
       "    .dataframe thead th {\n",
       "        text-align: right;\n",
       "    }\n",
       "</style>\n",
       "<table border=\"1\" class=\"dataframe\">\n",
       "  <thead>\n",
       "    <tr style=\"text-align: right;\">\n",
       "      <th></th>\n",
       "      <th>Var</th>\n",
       "      <th>Vif</th>\n",
       "    </tr>\n",
       "  </thead>\n",
       "  <tbody>\n",
       "    <tr>\n",
       "      <th>3</th>\n",
       "      <td>Intensity</td>\n",
       "      <td>26.10</td>\n",
       "    </tr>\n",
       "    <tr>\n",
       "      <th>2</th>\n",
       "      <td>BME280_Temp</td>\n",
       "      <td>19.91</td>\n",
       "    </tr>\n",
       "    <tr>\n",
       "      <th>0</th>\n",
       "      <td>BME280_Humidity</td>\n",
       "      <td>18.76</td>\n",
       "    </tr>\n",
       "    <tr>\n",
       "      <th>1</th>\n",
       "      <td>BME280_Pressure</td>\n",
       "      <td>14.57</td>\n",
       "    </tr>\n",
       "    <tr>\n",
       "      <th>4</th>\n",
       "      <td>Spinach_Area</td>\n",
       "      <td>3.58</td>\n",
       "    </tr>\n",
       "  </tbody>\n",
       "</table>\n",
       "</div>"
      ],
      "text/plain": [
       "               Var    Vif\n",
       "3        Intensity  26.10\n",
       "2      BME280_Temp  19.91\n",
       "0  BME280_Humidity  18.76\n",
       "1  BME280_Pressure  14.57\n",
       "4     Spinach_Area   3.58"
      ]
     },
     "execution_count": 12,
     "metadata": {},
     "output_type": "execute_result"
    }
   ],
   "source": [
    "vif_cal(input_data=data, dependent_col=\"Potato_Area\")"
   ]
  },
  {
   "cell_type": "code",
   "execution_count": 13,
   "metadata": {},
   "outputs": [],
   "source": [
    "# p and VIF for pressure are high. drop it\n",
    "x_train_sm=x_train_sm.drop('BME280_Pressure',1)"
   ]
  },
  {
   "cell_type": "code",
   "execution_count": 16,
   "metadata": {},
   "outputs": [
    {
     "data": {
      "text/html": [
       "<div>\n",
       "<style scoped>\n",
       "    .dataframe tbody tr th:only-of-type {\n",
       "        vertical-align: middle;\n",
       "    }\n",
       "\n",
       "    .dataframe tbody tr th {\n",
       "        vertical-align: top;\n",
       "    }\n",
       "\n",
       "    .dataframe thead th {\n",
       "        text-align: right;\n",
       "    }\n",
       "</style>\n",
       "<table border=\"1\" class=\"dataframe\">\n",
       "  <thead>\n",
       "    <tr style=\"text-align: right;\">\n",
       "      <th></th>\n",
       "      <th>const</th>\n",
       "      <th>BME280_Humidity</th>\n",
       "      <th>BME280_Temp</th>\n",
       "      <th>Intensity</th>\n",
       "    </tr>\n",
       "  </thead>\n",
       "  <tbody>\n",
       "    <tr>\n",
       "      <th>97</th>\n",
       "      <td>1.0</td>\n",
       "      <td>0.378834</td>\n",
       "      <td>0.086916</td>\n",
       "      <td>0.039975</td>\n",
       "    </tr>\n",
       "    <tr>\n",
       "      <th>40</th>\n",
       "      <td>1.0</td>\n",
       "      <td>0.289986</td>\n",
       "      <td>0.784746</td>\n",
       "      <td>0.401514</td>\n",
       "    </tr>\n",
       "    <tr>\n",
       "      <th>81</th>\n",
       "      <td>1.0</td>\n",
       "      <td>0.410994</td>\n",
       "      <td>0.162099</td>\n",
       "      <td>0.130874</td>\n",
       "    </tr>\n",
       "    <tr>\n",
       "      <th>100</th>\n",
       "      <td>1.0</td>\n",
       "      <td>0.409097</td>\n",
       "      <td>0.068664</td>\n",
       "      <td>0.084001</td>\n",
       "    </tr>\n",
       "    <tr>\n",
       "      <th>64</th>\n",
       "      <td>1.0</td>\n",
       "      <td>0.253128</td>\n",
       "      <td>0.350083</td>\n",
       "      <td>0.103314</td>\n",
       "    </tr>\n",
       "  </tbody>\n",
       "</table>\n",
       "</div>"
      ],
      "text/plain": [
       "     const  BME280_Humidity  BME280_Temp  Intensity\n",
       "97     1.0         0.378834     0.086916   0.039975\n",
       "40     1.0         0.289986     0.784746   0.401514\n",
       "81     1.0         0.410994     0.162099   0.130874\n",
       "100    1.0         0.409097     0.068664   0.084001\n",
       "64     1.0         0.253128     0.350083   0.103314"
      ]
     },
     "execution_count": 16,
     "metadata": {},
     "output_type": "execute_result"
    }
   ],
   "source": [
    "x_train_sm.head()"
   ]
  },
  {
   "cell_type": "code",
   "execution_count": 17,
   "metadata": {},
   "outputs": [],
   "source": [
    "lm_2 = sm.OLS(y_train_sm,x_train_sm).fit()"
   ]
  },
  {
   "cell_type": "code",
   "execution_count": 18,
   "metadata": {},
   "outputs": [
    {
     "name": "stdout",
     "output_type": "stream",
     "text": [
      "                            OLS Regression Results                            \n",
      "==============================================================================\n",
      "Dep. Variable:            Potato_Area   R-squared:                       0.531\n",
      "Model:                            OLS   Adj. R-squared:                  0.508\n",
      "Method:                 Least Squares   F-statistic:                     23.40\n",
      "Date:                Fri, 03 Jul 2020   Prob (F-statistic):           3.00e-10\n",
      "Time:                        19:08:01   Log-Likelihood:                 11.536\n",
      "No. Observations:                  66   AIC:                            -15.07\n",
      "Df Residuals:                      62   BIC:                            -6.313\n",
      "Df Model:                           3                                         \n",
      "Covariance Type:            nonrobust                                         \n",
      "===================================================================================\n",
      "                      coef    std err          t      P>|t|      [0.025      0.975]\n",
      "-----------------------------------------------------------------------------------\n",
      "const               0.0435      0.095      0.458      0.648      -0.146       0.233\n",
      "BME280_Humidity     0.3435      0.252      1.365      0.177      -0.160       0.847\n",
      "BME280_Temp        -0.3232      0.263     -1.229      0.224      -0.849       0.202\n",
      "Intensity           0.8672      0.454      1.909      0.061      -0.041       1.775\n",
      "==============================================================================\n",
      "Omnibus:                        9.660   Durbin-Watson:                   2.041\n",
      "Prob(Omnibus):                  0.008   Jarque-Bera (JB):                9.298\n",
      "Skew:                           0.838   Prob(JB):                      0.00957\n",
      "Kurtosis:                       3.758   Cond. No.                         28.4\n",
      "==============================================================================\n",
      "\n",
      "Warnings:\n",
      "[1] Standard Errors assume that the covariance matrix of the errors is correctly specified.\n"
     ]
    }
   ],
   "source": [
    "print(lm_2.summary())"
   ]
  },
  {
   "cell_type": "code",
   "execution_count": 19,
   "metadata": {},
   "outputs": [
    {
     "data": {
      "text/html": [
       "<div>\n",
       "<style scoped>\n",
       "    .dataframe tbody tr th:only-of-type {\n",
       "        vertical-align: middle;\n",
       "    }\n",
       "\n",
       "    .dataframe tbody tr th {\n",
       "        vertical-align: top;\n",
       "    }\n",
       "\n",
       "    .dataframe thead th {\n",
       "        text-align: right;\n",
       "    }\n",
       "</style>\n",
       "<table border=\"1\" class=\"dataframe\">\n",
       "  <thead>\n",
       "    <tr style=\"text-align: right;\">\n",
       "      <th></th>\n",
       "      <th>Var</th>\n",
       "      <th>Vif</th>\n",
       "    </tr>\n",
       "  </thead>\n",
       "  <tbody>\n",
       "    <tr>\n",
       "      <th>2</th>\n",
       "      <td>Intensity</td>\n",
       "      <td>23.31</td>\n",
       "    </tr>\n",
       "    <tr>\n",
       "      <th>1</th>\n",
       "      <td>BME280_Temp</td>\n",
       "      <td>16.12</td>\n",
       "    </tr>\n",
       "    <tr>\n",
       "      <th>0</th>\n",
       "      <td>BME280_Humidity</td>\n",
       "      <td>8.53</td>\n",
       "    </tr>\n",
       "    <tr>\n",
       "      <th>3</th>\n",
       "      <td>Spinach_Area</td>\n",
       "      <td>3.45</td>\n",
       "    </tr>\n",
       "  </tbody>\n",
       "</table>\n",
       "</div>"
      ],
      "text/plain": [
       "               Var    Vif\n",
       "2        Intensity  23.31\n",
       "1      BME280_Temp  16.12\n",
       "0  BME280_Humidity   8.53\n",
       "3     Spinach_Area   3.45"
      ]
     },
     "execution_count": 19,
     "metadata": {},
     "output_type": "execute_result"
    }
   ],
   "source": [
    "vif_cal(input_data=data.drop([\"BME280_Pressure\"], axis=1), dependent_col=\"Potato_Area\")"
   ]
  },
  {
   "cell_type": "code",
   "execution_count": 20,
   "metadata": {},
   "outputs": [],
   "source": [
    "# VIf and p for temperature are high. Drop it\n",
    "x_train_sm=x_train_sm.drop('BME280_Temp',1)"
   ]
  },
  {
   "cell_type": "code",
   "execution_count": 21,
   "metadata": {},
   "outputs": [
    {
     "data": {
      "text/html": [
       "<div>\n",
       "<style scoped>\n",
       "    .dataframe tbody tr th:only-of-type {\n",
       "        vertical-align: middle;\n",
       "    }\n",
       "\n",
       "    .dataframe tbody tr th {\n",
       "        vertical-align: top;\n",
       "    }\n",
       "\n",
       "    .dataframe thead th {\n",
       "        text-align: right;\n",
       "    }\n",
       "</style>\n",
       "<table border=\"1\" class=\"dataframe\">\n",
       "  <thead>\n",
       "    <tr style=\"text-align: right;\">\n",
       "      <th></th>\n",
       "      <th>const</th>\n",
       "      <th>BME280_Humidity</th>\n",
       "      <th>Intensity</th>\n",
       "    </tr>\n",
       "  </thead>\n",
       "  <tbody>\n",
       "    <tr>\n",
       "      <th>97</th>\n",
       "      <td>1.0</td>\n",
       "      <td>0.378834</td>\n",
       "      <td>0.039975</td>\n",
       "    </tr>\n",
       "    <tr>\n",
       "      <th>40</th>\n",
       "      <td>1.0</td>\n",
       "      <td>0.289986</td>\n",
       "      <td>0.401514</td>\n",
       "    </tr>\n",
       "    <tr>\n",
       "      <th>81</th>\n",
       "      <td>1.0</td>\n",
       "      <td>0.410994</td>\n",
       "      <td>0.130874</td>\n",
       "    </tr>\n",
       "    <tr>\n",
       "      <th>100</th>\n",
       "      <td>1.0</td>\n",
       "      <td>0.409097</td>\n",
       "      <td>0.084001</td>\n",
       "    </tr>\n",
       "    <tr>\n",
       "      <th>64</th>\n",
       "      <td>1.0</td>\n",
       "      <td>0.253128</td>\n",
       "      <td>0.103314</td>\n",
       "    </tr>\n",
       "    <tr>\n",
       "      <th>...</th>\n",
       "      <td>...</td>\n",
       "      <td>...</td>\n",
       "      <td>...</td>\n",
       "    </tr>\n",
       "    <tr>\n",
       "      <th>87</th>\n",
       "      <td>1.0</td>\n",
       "      <td>0.344505</td>\n",
       "      <td>0.143905</td>\n",
       "    </tr>\n",
       "    <tr>\n",
       "      <th>103</th>\n",
       "      <td>1.0</td>\n",
       "      <td>0.431817</td>\n",
       "      <td>0.132283</td>\n",
       "    </tr>\n",
       "    <tr>\n",
       "      <th>67</th>\n",
       "      <td>1.0</td>\n",
       "      <td>0.340079</td>\n",
       "      <td>0.027648</td>\n",
       "    </tr>\n",
       "    <tr>\n",
       "      <th>24</th>\n",
       "      <td>1.0</td>\n",
       "      <td>0.583089</td>\n",
       "      <td>0.621467</td>\n",
       "    </tr>\n",
       "    <tr>\n",
       "      <th>8</th>\n",
       "      <td>1.0</td>\n",
       "      <td>0.791815</td>\n",
       "      <td>0.786240</td>\n",
       "    </tr>\n",
       "  </tbody>\n",
       "</table>\n",
       "<p>66 rows × 3 columns</p>\n",
       "</div>"
      ],
      "text/plain": [
       "     const  BME280_Humidity  Intensity\n",
       "97     1.0         0.378834   0.039975\n",
       "40     1.0         0.289986   0.401514\n",
       "81     1.0         0.410994   0.130874\n",
       "100    1.0         0.409097   0.084001\n",
       "64     1.0         0.253128   0.103314\n",
       "..     ...              ...        ...\n",
       "87     1.0         0.344505   0.143905\n",
       "103    1.0         0.431817   0.132283\n",
       "67     1.0         0.340079   0.027648\n",
       "24     1.0         0.583089   0.621467\n",
       "8      1.0         0.791815   0.786240\n",
       "\n",
       "[66 rows x 3 columns]"
      ]
     },
     "execution_count": 21,
     "metadata": {},
     "output_type": "execute_result"
    }
   ],
   "source": [
    "x_train_sm"
   ]
  },
  {
   "cell_type": "code",
   "execution_count": 22,
   "metadata": {},
   "outputs": [],
   "source": [
    "lm_3 = sm.OLS(y_train_sm,x_train_sm).fit()"
   ]
  },
  {
   "cell_type": "code",
   "execution_count": 23,
   "metadata": {},
   "outputs": [
    {
     "name": "stdout",
     "output_type": "stream",
     "text": [
      "                            OLS Regression Results                            \n",
      "==============================================================================\n",
      "Dep. Variable:            Potato_Area   R-squared:                       0.520\n",
      "Model:                            OLS   Adj. R-squared:                  0.504\n",
      "Method:                 Least Squares   F-statistic:                     34.07\n",
      "Date:                Fri, 03 Jul 2020   Prob (F-statistic):           9.35e-11\n",
      "Time:                        19:09:52   Log-Likelihood:                 10.741\n",
      "No. Observations:                  66   AIC:                            -15.48\n",
      "Df Residuals:                      63   BIC:                            -8.914\n",
      "Df Model:                           2                                         \n",
      "Covariance Type:            nonrobust                                         \n",
      "===================================================================================\n",
      "                      coef    std err          t      P>|t|      [0.025      0.975]\n",
      "-----------------------------------------------------------------------------------\n",
      "const              -0.0525      0.054     -0.967      0.337      -0.161       0.056\n",
      "BME280_Humidity     0.5894      0.153      3.845      0.000       0.283       0.896\n",
      "Intensity           0.3340      0.136      2.462      0.017       0.063       0.605\n",
      "==============================================================================\n",
      "Omnibus:                       14.950   Durbin-Watson:                   2.012\n",
      "Prob(Omnibus):                  0.001   Jarque-Bera (JB):               16.675\n",
      "Skew:                           1.097   Prob(JB):                     0.000239\n",
      "Kurtosis:                       4.117   Cond. No.                         8.49\n",
      "==============================================================================\n",
      "\n",
      "Warnings:\n",
      "[1] Standard Errors assume that the covariance matrix of the errors is correctly specified.\n"
     ]
    }
   ],
   "source": [
    "print(lm_3.summary())"
   ]
  },
  {
   "cell_type": "code",
   "execution_count": 24,
   "metadata": {},
   "outputs": [
    {
     "data": {
      "text/html": [
       "<div>\n",
       "<style scoped>\n",
       "    .dataframe tbody tr th:only-of-type {\n",
       "        vertical-align: middle;\n",
       "    }\n",
       "\n",
       "    .dataframe tbody tr th {\n",
       "        vertical-align: top;\n",
       "    }\n",
       "\n",
       "    .dataframe thead th {\n",
       "        text-align: right;\n",
       "    }\n",
       "</style>\n",
       "<table border=\"1\" class=\"dataframe\">\n",
       "  <thead>\n",
       "    <tr style=\"text-align: right;\">\n",
       "      <th></th>\n",
       "      <th>Var</th>\n",
       "      <th>Vif</th>\n",
       "    </tr>\n",
       "  </thead>\n",
       "  <tbody>\n",
       "    <tr>\n",
       "      <th>0</th>\n",
       "      <td>BME280_Humidity</td>\n",
       "      <td>7.63</td>\n",
       "    </tr>\n",
       "    <tr>\n",
       "      <th>1</th>\n",
       "      <td>Intensity</td>\n",
       "      <td>4.73</td>\n",
       "    </tr>\n",
       "    <tr>\n",
       "      <th>2</th>\n",
       "      <td>Spinach_Area</td>\n",
       "      <td>3.11</td>\n",
       "    </tr>\n",
       "  </tbody>\n",
       "</table>\n",
       "</div>"
      ],
      "text/plain": [
       "               Var   Vif\n",
       "0  BME280_Humidity  7.63\n",
       "1        Intensity  4.73\n",
       "2     Spinach_Area  3.11"
      ]
     },
     "execution_count": 24,
     "metadata": {},
     "output_type": "execute_result"
    }
   ],
   "source": [
    "vif_cal(input_data=data.drop([\"BME280_Pressure\",\"BME280_Temp\"], axis=1), dependent_col=\"Potato_Area\")"
   ]
  },
  {
   "cell_type": "code",
   "execution_count": 25,
   "metadata": {},
   "outputs": [
    {
     "name": "stdout",
     "output_type": "stream",
     "text": [
      "const             -0.052490\n",
      "BME280_Humidity    0.589429\n",
      "Intensity          0.334001\n",
      "dtype: float64\n"
     ]
    }
   ],
   "source": [
    "print(lm_3.params)"
   ]
  },
  {
   "cell_type": "code",
   "execution_count": 26,
   "metadata": {},
   "outputs": [
    {
     "data": {
      "text/html": [
       "<div>\n",
       "<style scoped>\n",
       "    .dataframe tbody tr th:only-of-type {\n",
       "        vertical-align: middle;\n",
       "    }\n",
       "\n",
       "    .dataframe tbody tr th {\n",
       "        vertical-align: top;\n",
       "    }\n",
       "\n",
       "    .dataframe thead th {\n",
       "        text-align: right;\n",
       "    }\n",
       "</style>\n",
       "<table border=\"1\" class=\"dataframe\">\n",
       "  <thead>\n",
       "    <tr style=\"text-align: right;\">\n",
       "      <th></th>\n",
       "      <th>const</th>\n",
       "      <th>BME280_Humidity</th>\n",
       "      <th>Intensity</th>\n",
       "    </tr>\n",
       "  </thead>\n",
       "  <tbody>\n",
       "    <tr>\n",
       "      <th>25</th>\n",
       "      <td>1.0</td>\n",
       "      <td>0.566105</td>\n",
       "      <td>0.610842</td>\n",
       "    </tr>\n",
       "    <tr>\n",
       "      <th>51</th>\n",
       "      <td>1.0</td>\n",
       "      <td>0.020913</td>\n",
       "      <td>0.317866</td>\n",
       "    </tr>\n",
       "    <tr>\n",
       "      <th>21</th>\n",
       "      <td>1.0</td>\n",
       "      <td>0.643164</td>\n",
       "      <td>0.654310</td>\n",
       "    </tr>\n",
       "    <tr>\n",
       "      <th>26</th>\n",
       "      <td>1.0</td>\n",
       "      <td>0.549121</td>\n",
       "      <td>0.601068</td>\n",
       "    </tr>\n",
       "    <tr>\n",
       "      <th>68</th>\n",
       "      <td>1.0</td>\n",
       "      <td>0.383125</td>\n",
       "      <td>0.008277</td>\n",
       "    </tr>\n",
       "  </tbody>\n",
       "</table>\n",
       "</div>"
      ],
      "text/plain": [
       "    const  BME280_Humidity  Intensity\n",
       "25    1.0         0.566105   0.610842\n",
       "51    1.0         0.020913   0.317866\n",
       "21    1.0         0.643164   0.654310\n",
       "26    1.0         0.549121   0.601068\n",
       "68    1.0         0.383125   0.008277"
      ]
     },
     "execution_count": 26,
     "metadata": {},
     "output_type": "execute_result"
    }
   ],
   "source": [
    "x_test=x_test.drop([\"BME280_Pressure\",\"BME280_Temp\"],1)\n",
    "x_test_sm = sm.add_constant(x_test)\n",
    "x_test_sm.head()"
   ]
  },
  {
   "cell_type": "code",
   "execution_count": 28,
   "metadata": {},
   "outputs": [],
   "source": [
    "#Making Predictions\n",
    "y_pred=lm_3.predict(x_test_sm)"
   ]
  },
  {
   "cell_type": "code",
   "execution_count": 30,
   "metadata": {},
   "outputs": [],
   "source": [
    "c=[i for i in range(1,len(y_pred)+1)]"
   ]
  },
  {
   "cell_type": "code",
   "execution_count": 33,
   "metadata": {},
   "outputs": [
    {
     "data": {
      "text/plain": [
       "Text(0, 0.5, 'Potato Area')"
      ]
     },
     "execution_count": 33,
     "metadata": {},
     "output_type": "execute_result"
    },
    {
     "data": {
      "image/png": "[encoded data removed]",
      "text/plain": [
       "<Figure size 432x288 with 1 Axes>"
      ]
     },
     "metadata": {
      "needs_background": "light"
     },
     "output_type": "display_data"
    }
   ],
   "source": [
    "fig = plt.figure()\n",
    "plt.plot(c,y_test, color=\"blue\", linewidth=2.5, linestyle=\"-\")     #Plotting Actual\n",
    "plt.plot(c,y_pred, color=\"red\",  linewidth=2.5, linestyle=\"-\")\n",
    "fig.suptitle('Actual and Predicted', fontsize=20)              # Plot heading \n",
    "plt.xlabel('Index', fontsize=18)                               # X-label\n",
    "plt.ylabel('Potato Area', fontsize=16)"
   ]
  },
  {
   "cell_type": "code",
   "execution_count": 34,
   "metadata": {},
   "outputs": [
    {
     "data": {
      "text/plain": [
       "Text(0, 0.5, 'ytest-ypred')"
      ]
     },
     "execution_count": 34,
     "metadata": {},
     "output_type": "execute_result"
    },
    {
     "data": {
      "image/png": "[encoded data removed]",
      "text/plain": [
       "<Figure size 432x288 with 1 Axes>"
      ]
     },
     "metadata": {
      "needs_background": "light"
     },
     "output_type": "display_data"
    }
   ],
   "source": [
    "fig = plt.figure()\n",
    "plt.plot(c,y_test-y_pred, color=\"blue\", linewidth=2.5, linestyle=\"-\")\n",
    "fig.suptitle('Error Terms', fontsize=20)              # Plot heading \n",
    "plt.xlabel('Index', fontsize=18)                      # X-label\n",
    "plt.ylabel('ytest-ypred', fontsize=16) "
   ]
  },
  {
   "cell_type": "code",
   "execution_count": 35,
   "metadata": {},
   "outputs": [
    {
     "data": {
      "text/plain": [
       "0.030242642331652317"
      ]
     },
     "execution_count": 35,
     "metadata": {},
     "output_type": "execute_result"
    }
   ],
   "source": [
    "mse=mean_squared_error(y_test,y_pred)\n",
    "mse"
   ]
  },
  {
   "cell_type": "code",
   "execution_count": null,
   "metadata": {},
   "outputs": [],
   "source": []
  }
 ],
 "metadata": {
  "kernelspec": {
   "display_name": "Python 3",
   "language": "python",
   "name": "python3"
  },
  "language_info": {
   "codemirror_mode": {
    "name": "ipython",
    "version": 3
   },
   "file_extension": ".py",
   "mimetype": "text/x-python",
   "name": "python",
   "nbconvert_exporter": "python",
   "pygments_lexer": "ipython3",
   "version": "3.6.9"
  }
 },
 "nbformat": 4,
 "nbformat_minor": 2
}
