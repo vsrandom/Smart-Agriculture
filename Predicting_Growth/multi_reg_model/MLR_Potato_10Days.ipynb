{
 "cells": [
  {
   "cell_type": "code",
   "execution_count": 73,
   "metadata": {},
   "outputs": [],
   "source": [
    "import numpy as np\n",
    "import pandas as pd\n",
    "import seaborn as sns\n",
    "import matplotlib.pyplot as plt\n",
    "import statsmodels.api as sm\n",
    "from sklearn.model_selection import train_test_split\n",
    "from sklearn.metrics import r2_score,mean_squared_error"
   ]
  },
  {
   "cell_type": "code",
   "execution_count": 74,
   "metadata": {},
   "outputs": [],
   "source": [
    "df=pd.read_csv('../data/Weather_vs_Pixel_Area.csv')\n",
    "df=df.drop('Unnamed: 0',1)"
   ]
  },
  {
   "cell_type": "code",
   "execution_count": 75,
   "metadata": {},
   "outputs": [
    {
     "data": {
      "text/html": [
       "<div>\n",
       "<style scoped>\n",
       "    .dataframe tbody tr th:only-of-type {\n",
       "        vertical-align: middle;\n",
       "    }\n",
       "\n",
       "    .dataframe tbody tr th {\n",
       "        vertical-align: top;\n",
       "    }\n",
       "\n",
       "    .dataframe thead th {\n",
       "        text-align: right;\n",
       "    }\n",
       "</style>\n",
       "<table border=\"1\" class=\"dataframe\">\n",
       "  <thead>\n",
       "    <tr style=\"text-align: right;\">\n",
       "      <th></th>\n",
       "      <th>BME280_Humidity</th>\n",
       "      <th>BME280_Pressure</th>\n",
       "      <th>BME280_Temp</th>\n",
       "      <th>DS18B20_Temp</th>\n",
       "      <th>Date</th>\n",
       "      <th>Intensity</th>\n",
       "      <th>Spinach_Area</th>\n",
       "      <th>Potato_Area</th>\n",
       "    </tr>\n",
       "  </thead>\n",
       "  <tbody>\n",
       "    <tr>\n",
       "      <th>0</th>\n",
       "      <td>54.00</td>\n",
       "      <td>898.84</td>\n",
       "      <td>30.25</td>\n",
       "      <td>23.62</td>\n",
       "      <td>2019-10-26 13:11:25</td>\n",
       "      <td>2011.0</td>\n",
       "      <td>126</td>\n",
       "      <td>890</td>\n",
       "    </tr>\n",
       "    <tr>\n",
       "      <th>1</th>\n",
       "      <td>54.04</td>\n",
       "      <td>898.64</td>\n",
       "      <td>30.02</td>\n",
       "      <td>23.62</td>\n",
       "      <td>2019-10-26 13:26:32</td>\n",
       "      <td>1797.0</td>\n",
       "      <td>398</td>\n",
       "      <td>1413</td>\n",
       "    </tr>\n",
       "    <tr>\n",
       "      <th>2</th>\n",
       "      <td>53.66</td>\n",
       "      <td>898.40</td>\n",
       "      <td>29.86</td>\n",
       "      <td>23.19</td>\n",
       "      <td>2019-10-26 13:41:39</td>\n",
       "      <td>1694.0</td>\n",
       "      <td>244</td>\n",
       "      <td>962</td>\n",
       "    </tr>\n",
       "    <tr>\n",
       "      <th>3</th>\n",
       "      <td>53.50</td>\n",
       "      <td>898.20</td>\n",
       "      <td>29.96</td>\n",
       "      <td>23.25</td>\n",
       "      <td>2019-10-26 13:56:47</td>\n",
       "      <td>1614.0</td>\n",
       "      <td>1159</td>\n",
       "      <td>2538</td>\n",
       "    </tr>\n",
       "    <tr>\n",
       "      <th>4</th>\n",
       "      <td>53.42</td>\n",
       "      <td>898.04</td>\n",
       "      <td>29.93</td>\n",
       "      <td>22.81</td>\n",
       "      <td>2019-10-26 14:11:54</td>\n",
       "      <td>1512.0</td>\n",
       "      <td>324</td>\n",
       "      <td>2880</td>\n",
       "    </tr>\n",
       "  </tbody>\n",
       "</table>\n",
       "</div>"
      ],
      "text/plain": [
       "   BME280_Humidity  BME280_Pressure  BME280_Temp  DS18B20_Temp  \\\n",
       "0            54.00           898.84        30.25         23.62   \n",
       "1            54.04           898.64        30.02         23.62   \n",
       "2            53.66           898.40        29.86         23.19   \n",
       "3            53.50           898.20        29.96         23.25   \n",
       "4            53.42           898.04        29.93         22.81   \n",
       "\n",
       "                  Date  Intensity  Spinach_Area  Potato_Area  \n",
       "0  2019-10-26 13:11:25     2011.0           126          890  \n",
       "1  2019-10-26 13:26:32     1797.0           398         1413  \n",
       "2  2019-10-26 13:41:39     1694.0           244          962  \n",
       "3  2019-10-26 13:56:47     1614.0          1159         2538  \n",
       "4  2019-10-26 14:11:54     1512.0           324         2880  "
      ]
     },
     "execution_count": 75,
     "metadata": {},
     "output_type": "execute_result"
    }
   ],
   "source": [
    "df.head()"
   ]
  },
  {
   "cell_type": "code",
   "execution_count": 76,
   "metadata": {},
   "outputs": [],
   "source": [
    "def avearge(l,y,x):\n",
    "    sum=0.0;\n",
    "    for i in range(x,y+1):\n",
    "        sum=sum+l[i]\n",
    "    return (sum/(y-x+1))"
   ]
  },
  {
   "cell_type": "code",
   "execution_count": 77,
   "metadata": {},
   "outputs": [],
   "source": [
    "def Normalize(x):\n",
    "    return ((x-np.min(x))/(max(x)-min(x)))"
   ]
  },
  {
   "cell_type": "code",
   "execution_count": 78,
   "metadata": {},
   "outputs": [
    {
     "data": {
      "text/html": [
       "<div>\n",
       "<style scoped>\n",
       "    .dataframe tbody tr th:only-of-type {\n",
       "        vertical-align: middle;\n",
       "    }\n",
       "\n",
       "    .dataframe tbody tr th {\n",
       "        vertical-align: top;\n",
       "    }\n",
       "\n",
       "    .dataframe thead th {\n",
       "        text-align: right;\n",
       "    }\n",
       "</style>\n",
       "<table border=\"1\" class=\"dataframe\">\n",
       "  <thead>\n",
       "    <tr style=\"text-align: right;\">\n",
       "      <th></th>\n",
       "      <th>BME280_Humidity</th>\n",
       "      <th>BME280_Pressure</th>\n",
       "      <th>BME280_Temp</th>\n",
       "      <th>Intensity</th>\n",
       "      <th>Potato_Area</th>\n",
       "      <th>Spinach_Area</th>\n",
       "    </tr>\n",
       "  </thead>\n",
       "  <tbody>\n",
       "    <tr>\n",
       "      <th>BME280_Humidity</th>\n",
       "      <td>1.000000</td>\n",
       "      <td>0.952427</td>\n",
       "      <td>0.336412</td>\n",
       "      <td>0.580179</td>\n",
       "      <td>-0.453484</td>\n",
       "      <td>-0.451344</td>\n",
       "    </tr>\n",
       "    <tr>\n",
       "      <th>BME280_Pressure</th>\n",
       "      <td>0.952427</td>\n",
       "      <td>1.000000</td>\n",
       "      <td>0.545547</td>\n",
       "      <td>0.740000</td>\n",
       "      <td>-0.343564</td>\n",
       "      <td>-0.329640</td>\n",
       "    </tr>\n",
       "    <tr>\n",
       "      <th>BME280_Temp</th>\n",
       "      <td>0.336412</td>\n",
       "      <td>0.545547</td>\n",
       "      <td>1.000000</td>\n",
       "      <td>0.940901</td>\n",
       "      <td>0.018321</td>\n",
       "      <td>0.069976</td>\n",
       "    </tr>\n",
       "    <tr>\n",
       "      <th>Intensity</th>\n",
       "      <td>0.580179</td>\n",
       "      <td>0.740000</td>\n",
       "      <td>0.940901</td>\n",
       "      <td>1.000000</td>\n",
       "      <td>-0.153238</td>\n",
       "      <td>-0.076754</td>\n",
       "    </tr>\n",
       "    <tr>\n",
       "      <th>Potato_Area</th>\n",
       "      <td>-0.453484</td>\n",
       "      <td>-0.343564</td>\n",
       "      <td>0.018321</td>\n",
       "      <td>-0.153238</td>\n",
       "      <td>1.000000</td>\n",
       "      <td>0.895510</td>\n",
       "    </tr>\n",
       "    <tr>\n",
       "      <th>Spinach_Area</th>\n",
       "      <td>-0.451344</td>\n",
       "      <td>-0.329640</td>\n",
       "      <td>0.069976</td>\n",
       "      <td>-0.076754</td>\n",
       "      <td>0.895510</td>\n",
       "      <td>1.000000</td>\n",
       "    </tr>\n",
       "  </tbody>\n",
       "</table>\n",
       "</div>"
      ],
      "text/plain": [
       "                 BME280_Humidity  BME280_Pressure  BME280_Temp  Intensity  \\\n",
       "BME280_Humidity         1.000000         0.952427     0.336412   0.580179   \n",
       "BME280_Pressure         0.952427         1.000000     0.545547   0.740000   \n",
       "BME280_Temp             0.336412         0.545547     1.000000   0.940901   \n",
       "Intensity               0.580179         0.740000     0.940901   1.000000   \n",
       "Potato_Area            -0.453484        -0.343564     0.018321  -0.153238   \n",
       "Spinach_Area           -0.451344        -0.329640     0.069976  -0.076754   \n",
       "\n",
       "                 Potato_Area  Spinach_Area  \n",
       "BME280_Humidity    -0.453484     -0.451344  \n",
       "BME280_Pressure    -0.343564     -0.329640  \n",
       "BME280_Temp         0.018321      0.069976  \n",
       "Intensity          -0.153238     -0.076754  \n",
       "Potato_Area         1.000000      0.895510  \n",
       "Spinach_Area        0.895510      1.000000  "
      ]
     },
     "execution_count": 78,
     "metadata": {},
     "output_type": "execute_result"
    }
   ],
   "source": [
    "h=np.array(df.BME280_Humidity)\n",
    "p=np.array(df.BME280_Pressure)\n",
    "t=np.array(df.BME280_Temp)\n",
    "inten=np.array(df.Intensity)\n",
    "sa=np.array(df.Spinach_Area)\n",
    "pa=np.array(df.Potato_Area)\n",
    "data=pd.DataFrame()\n",
    "\n",
    "j=200\n",
    "j2=int((j/2) + 1) \n",
    "for i in range(j,len(h)):\n",
    "    dic={}\n",
    "    dic['BME280_Humidity']=avearge(h,i-j2,i-j)\n",
    "    dic['BME280_Pressure']=avearge(p,i-j2,i-j)\n",
    "    dic['BME280_Temp']=avearge(t,i-j2,i-j)\n",
    "    dic['Intensity']=avearge(inten,i-j2,i-j)\n",
    "    dic['Spinach_Area']=sa[i]\n",
    "    dic['Potato_Area']=pa[i]\n",
    "    data=data.append(dic,ignore_index=True)\n",
    "data=data.apply(Normalize)\n",
    "# data.to_csv('Weather_vs_Pixel_Area_10days.csv')\n",
    "data.corr()"
   ]
  },
  {
   "cell_type": "code",
   "execution_count": 79,
   "metadata": {},
   "outputs": [],
   "source": [
    "x=data[['BME280_Humidity','BME280_Pressure','BME280_Temp','Intensity']]\n",
    "y=data['Spinach_Area']"
   ]
  },
  {
   "cell_type": "code",
   "execution_count": 80,
   "metadata": {},
   "outputs": [],
   "source": [
    "x_train,x_test,y_train,y_test=train_test_split(x,y,train_size=0.6,random_state=100)"
   ]
  },
  {
   "cell_type": "code",
   "execution_count": 81,
   "metadata": {},
   "outputs": [],
   "source": [
    "x_train_sm=x_train\n",
    "y_train_sm=y_train\n",
    "x_train_sm=sm.add_constant(x_train_sm)\n",
    "lm_1=sm.OLS(y_train_sm,x_train_sm).fit()"
   ]
  },
  {
   "cell_type": "code",
   "execution_count": 82,
   "metadata": {},
   "outputs": [
    {
     "name": "stdout",
     "output_type": "stream",
     "text": [
      "                            OLS Regression Results                            \n",
      "==============================================================================\n",
      "Dep. Variable:           Spinach_Area   R-squared:                       0.200\n",
      "Model:                            OLS   Adj. R-squared:                  0.072\n",
      "Method:                 Least Squares   F-statistic:                     1.562\n",
      "Date:                Fri, 03 Jul 2020   Prob (F-statistic):              0.215\n",
      "Time:                        20:02:12   Log-Likelihood:                -4.4409\n",
      "No. Observations:                  30   AIC:                             18.88\n",
      "Df Residuals:                      25   BIC:                             25.89\n",
      "Df Model:                           4                                         \n",
      "Covariance Type:            nonrobust                                         \n",
      "===================================================================================\n",
      "                      coef    std err          t      P>|t|      [0.025      0.975]\n",
      "-----------------------------------------------------------------------------------\n",
      "const               0.7505      0.227      3.310      0.003       0.284       1.217\n",
      "BME280_Humidity    -1.0905      1.195     -0.912      0.370      -3.552       1.371\n",
      "BME280_Pressure     0.5331      1.134      0.470      0.642      -1.803       2.869\n",
      "BME280_Temp        -0.0585      0.667     -0.088      0.931      -1.433       1.316\n",
      "Intensity          -0.0242      0.998     -0.024      0.981      -2.080       2.032\n",
      "==============================================================================\n",
      "Omnibus:                        8.108   Durbin-Watson:                   2.733\n",
      "Prob(Omnibus):                  0.017   Jarque-Bera (JB):                2.292\n",
      "Skew:                           0.181   Prob(JB):                        0.318\n",
      "Kurtosis:                       1.695   Cond. No.                         41.0\n",
      "==============================================================================\n",
      "\n",
      "Warnings:\n",
      "[1] Standard Errors assume that the covariance matrix of the errors is correctly specified.\n"
     ]
    }
   ],
   "source": [
    "print(lm_1.summary())"
   ]
  },
  {
   "cell_type": "code",
   "execution_count": 83,
   "metadata": {},
   "outputs": [],
   "source": [
    "# UDF for calculating vif value\n",
    "def vif_cal(input_data, dependent_col):\n",
    "    vif_df = pd.DataFrame( columns = ['Var', 'Vif'])\n",
    "    x_vars=input_data.drop([dependent_col], axis=1)\n",
    "    xvar_names=x_vars.columns\n",
    "    for i in range(0,xvar_names.shape[0]):\n",
    "        y=x_vars[xvar_names[i]] \n",
    "        x=x_vars[xvar_names.drop(xvar_names[i])]\n",
    "        rsq=sm.OLS(y,x).fit().rsquared  \n",
    "        vif=round(1/(1-rsq),2)\n",
    "        vif_df.loc[i] = [xvar_names[i], vif]\n",
    "    return vif_df.sort_values(by = 'Vif', axis=0, ascending=False, inplace=False)"
   ]
  },
  {
   "cell_type": "code",
   "execution_count": 84,
   "metadata": {},
   "outputs": [
    {
     "data": {
      "text/html": [
       "<div>\n",
       "<style scoped>\n",
       "    .dataframe tbody tr th:only-of-type {\n",
       "        vertical-align: middle;\n",
       "    }\n",
       "\n",
       "    .dataframe tbody tr th {\n",
       "        vertical-align: top;\n",
       "    }\n",
       "\n",
       "    .dataframe thead th {\n",
       "        text-align: right;\n",
       "    }\n",
       "</style>\n",
       "<table border=\"1\" class=\"dataframe\">\n",
       "  <thead>\n",
       "    <tr style=\"text-align: right;\">\n",
       "      <th></th>\n",
       "      <th>Var</th>\n",
       "      <th>Vif</th>\n",
       "    </tr>\n",
       "  </thead>\n",
       "  <tbody>\n",
       "    <tr>\n",
       "      <th>3</th>\n",
       "      <td>Intensity</td>\n",
       "      <td>94.83</td>\n",
       "    </tr>\n",
       "    <tr>\n",
       "      <th>2</th>\n",
       "      <td>BME280_Temp</td>\n",
       "      <td>68.60</td>\n",
       "    </tr>\n",
       "    <tr>\n",
       "      <th>1</th>\n",
       "      <td>BME280_Pressure</td>\n",
       "      <td>24.38</td>\n",
       "    </tr>\n",
       "    <tr>\n",
       "      <th>0</th>\n",
       "      <td>BME280_Humidity</td>\n",
       "      <td>20.69</td>\n",
       "    </tr>\n",
       "    <tr>\n",
       "      <th>4</th>\n",
       "      <td>Potato_Area</td>\n",
       "      <td>2.21</td>\n",
       "    </tr>\n",
       "  </tbody>\n",
       "</table>\n",
       "</div>"
      ],
      "text/plain": [
       "               Var    Vif\n",
       "3        Intensity  94.83\n",
       "2      BME280_Temp  68.60\n",
       "1  BME280_Pressure  24.38\n",
       "0  BME280_Humidity  20.69\n",
       "4      Potato_Area   2.21"
      ]
     },
     "execution_count": 84,
     "metadata": {},
     "output_type": "execute_result"
    }
   ],
   "source": [
    "vif_cal(input_data=data, dependent_col=\"Spinach_Area\")"
   ]
  },
  {
   "cell_type": "code",
   "execution_count": 85,
   "metadata": {},
   "outputs": [],
   "source": [
    "x_train_sm=x_train_sm.drop('Intensity',1)"
   ]
  },
  {
   "cell_type": "code",
   "execution_count": 86,
   "metadata": {},
   "outputs": [
    {
     "name": "stdout",
     "output_type": "stream",
     "text": [
      "                            OLS Regression Results                            \n",
      "==============================================================================\n",
      "Dep. Variable:           Spinach_Area   R-squared:                       0.200\n",
      "Model:                            OLS   Adj. R-squared:                  0.108\n",
      "Method:                 Least Squares   F-statistic:                     2.165\n",
      "Date:                Fri, 03 Jul 2020   Prob (F-statistic):              0.116\n",
      "Time:                        20:02:18   Log-Likelihood:                -4.4412\n",
      "No. Observations:                  30   AIC:                             16.88\n",
      "Df Residuals:                      26   BIC:                             22.49\n",
      "Df Model:                           3                                         \n",
      "Covariance Type:            nonrobust                                         \n",
      "===================================================================================\n",
      "                      coef    std err          t      P>|t|      [0.025      0.975]\n",
      "-----------------------------------------------------------------------------------\n",
      "const               0.7514      0.219      3.430      0.002       0.301       1.202\n",
      "BME280_Humidity    -1.0961      1.150     -0.953      0.349      -3.459       1.267\n",
      "BME280_Pressure     0.5316      1.110      0.479      0.636      -1.751       2.814\n",
      "BME280_Temp        -0.0732      0.272     -0.269      0.790      -0.633       0.487\n",
      "==============================================================================\n",
      "Omnibus:                        7.872   Durbin-Watson:                   2.737\n",
      "Prob(Omnibus):                  0.020   Jarque-Bera (JB):                2.271\n",
      "Skew:                           0.185   Prob(JB):                        0.321\n",
      "Kurtosis:                       1.704   Cond. No.                         37.9\n",
      "==============================================================================\n",
      "\n",
      "Warnings:\n",
      "[1] Standard Errors assume that the covariance matrix of the errors is correctly specified.\n"
     ]
    }
   ],
   "source": [
    "lm_2 = sm.OLS(y_train_sm,x_train_sm).fit()\n",
    "print(lm_2.summary())"
   ]
  },
  {
   "cell_type": "code",
   "execution_count": 87,
   "metadata": {},
   "outputs": [
    {
     "data": {
      "text/html": [
       "<div>\n",
       "<style scoped>\n",
       "    .dataframe tbody tr th:only-of-type {\n",
       "        vertical-align: middle;\n",
       "    }\n",
       "\n",
       "    .dataframe tbody tr th {\n",
       "        vertical-align: top;\n",
       "    }\n",
       "\n",
       "    .dataframe thead th {\n",
       "        text-align: right;\n",
       "    }\n",
       "</style>\n",
       "<table border=\"1\" class=\"dataframe\">\n",
       "  <thead>\n",
       "    <tr style=\"text-align: right;\">\n",
       "      <th></th>\n",
       "      <th>Var</th>\n",
       "      <th>Vif</th>\n",
       "    </tr>\n",
       "  </thead>\n",
       "  <tbody>\n",
       "    <tr>\n",
       "      <th>1</th>\n",
       "      <td>BME280_Pressure</td>\n",
       "      <td>22.83</td>\n",
       "    </tr>\n",
       "    <tr>\n",
       "      <th>0</th>\n",
       "      <td>BME280_Humidity</td>\n",
       "      <td>19.50</td>\n",
       "    </tr>\n",
       "    <tr>\n",
       "      <th>2</th>\n",
       "      <td>BME280_Temp</td>\n",
       "      <td>4.80</td>\n",
       "    </tr>\n",
       "    <tr>\n",
       "      <th>3</th>\n",
       "      <td>Potato_Area</td>\n",
       "      <td>1.94</td>\n",
       "    </tr>\n",
       "  </tbody>\n",
       "</table>\n",
       "</div>"
      ],
      "text/plain": [
       "               Var    Vif\n",
       "1  BME280_Pressure  22.83\n",
       "0  BME280_Humidity  19.50\n",
       "2      BME280_Temp   4.80\n",
       "3      Potato_Area   1.94"
      ]
     },
     "execution_count": 87,
     "metadata": {},
     "output_type": "execute_result"
    }
   ],
   "source": [
    "vif_cal(input_data=data.drop([\"Intensity\"], axis=1), dependent_col=\"Spinach_Area\")"
   ]
  },
  {
   "cell_type": "code",
   "execution_count": 88,
   "metadata": {},
   "outputs": [],
   "source": [
    "x_train_sm=x_train_sm.drop('BME280_Pressure',1)"
   ]
  },
  {
   "cell_type": "code",
   "execution_count": 89,
   "metadata": {},
   "outputs": [],
   "source": [
    "lm_3 = sm.OLS(y_train_sm,x_train_sm).fit()"
   ]
  },
  {
   "cell_type": "code",
   "execution_count": 90,
   "metadata": {},
   "outputs": [
    {
     "name": "stdout",
     "output_type": "stream",
     "text": [
      "                            OLS Regression Results                            \n",
      "==============================================================================\n",
      "Dep. Variable:           Spinach_Area   R-squared:                       0.193\n",
      "Model:                            OLS   Adj. R-squared:                  0.133\n",
      "Method:                 Least Squares   F-statistic:                     3.226\n",
      "Date:                Fri, 03 Jul 2020   Prob (F-statistic):             0.0554\n",
      "Time:                        20:02:31   Log-Likelihood:                -4.5729\n",
      "No. Observations:                  30   AIC:                             15.15\n",
      "Df Residuals:                      27   BIC:                             19.35\n",
      "Df Model:                           2                                         \n",
      "Covariance Type:            nonrobust                                         \n",
      "===================================================================================\n",
      "                      coef    std err          t      P>|t|      [0.025      0.975]\n",
      "-----------------------------------------------------------------------------------\n",
      "const               0.6640      0.120      5.555      0.000       0.419       0.909\n",
      "BME280_Humidity    -0.5567      0.226     -2.461      0.021      -1.021      -0.093\n",
      "BME280_Temp         0.0297      0.165      0.180      0.859      -0.309       0.368\n",
      "==============================================================================\n",
      "Omnibus:                        8.143   Durbin-Watson:                   2.719\n",
      "Prob(Omnibus):                  0.017   Jarque-Bera (JB):                2.442\n",
      "Skew:                           0.259   Prob(JB):                        0.295\n",
      "Kurtosis:                       1.702   Cond. No.                         5.45\n",
      "==============================================================================\n",
      "\n",
      "Warnings:\n",
      "[1] Standard Errors assume that the covariance matrix of the errors is correctly specified.\n"
     ]
    }
   ],
   "source": [
    "print(lm_3.summary())"
   ]
  },
  {
   "cell_type": "code",
   "execution_count": 91,
   "metadata": {},
   "outputs": [
    {
     "data": {
      "text/html": [
       "<div>\n",
       "<style scoped>\n",
       "    .dataframe tbody tr th:only-of-type {\n",
       "        vertical-align: middle;\n",
       "    }\n",
       "\n",
       "    .dataframe tbody tr th {\n",
       "        vertical-align: top;\n",
       "    }\n",
       "\n",
       "    .dataframe thead th {\n",
       "        text-align: right;\n",
       "    }\n",
       "</style>\n",
       "<table border=\"1\" class=\"dataframe\">\n",
       "  <thead>\n",
       "    <tr style=\"text-align: right;\">\n",
       "      <th></th>\n",
       "      <th>Var</th>\n",
       "      <th>Vif</th>\n",
       "    </tr>\n",
       "  </thead>\n",
       "  <tbody>\n",
       "    <tr>\n",
       "      <th>1</th>\n",
       "      <td>BME280_Temp</td>\n",
       "      <td>3.83</td>\n",
       "    </tr>\n",
       "    <tr>\n",
       "      <th>0</th>\n",
       "      <td>BME280_Humidity</td>\n",
       "      <td>2.89</td>\n",
       "    </tr>\n",
       "    <tr>\n",
       "      <th>2</th>\n",
       "      <td>Potato_Area</td>\n",
       "      <td>1.64</td>\n",
       "    </tr>\n",
       "  </tbody>\n",
       "</table>\n",
       "</div>"
      ],
      "text/plain": [
       "               Var   Vif\n",
       "1      BME280_Temp  3.83\n",
       "0  BME280_Humidity  2.89\n",
       "2      Potato_Area  1.64"
      ]
     },
     "execution_count": 91,
     "metadata": {},
     "output_type": "execute_result"
    }
   ],
   "source": [
    "vif_cal(input_data=data.drop([\"BME280_Pressure\",\"Intensity\"], axis=1), dependent_col=\"Spinach_Area\")"
   ]
  },
  {
   "cell_type": "code",
   "execution_count": 92,
   "metadata": {},
   "outputs": [],
   "source": [
    "x_train_sm=x_train_sm.drop('BME280_Temp',1)"
   ]
  },
  {
   "cell_type": "code",
   "execution_count": 93,
   "metadata": {},
   "outputs": [],
   "source": [
    "lm_4 = sm.OLS(y_train_sm,x_train_sm).fit()"
   ]
  },
  {
   "cell_type": "code",
   "execution_count": 94,
   "metadata": {},
   "outputs": [
    {
     "name": "stdout",
     "output_type": "stream",
     "text": [
      "                            OLS Regression Results                            \n",
      "==============================================================================\n",
      "Dep. Variable:           Spinach_Area   R-squared:                       0.192\n",
      "Model:                            OLS   Adj. R-squared:                  0.163\n",
      "Method:                 Least Squares   F-statistic:                     6.649\n",
      "Date:                Fri, 03 Jul 2020   Prob (F-statistic):             0.0155\n",
      "Time:                        20:07:29   Log-Likelihood:                -4.5908\n",
      "No. Observations:                  30   AIC:                             13.18\n",
      "Df Residuals:                      28   BIC:                             15.98\n",
      "Df Model:                           1                                         \n",
      "Covariance Type:            nonrobust                                         \n",
      "===================================================================================\n",
      "                      coef    std err          t      P>|t|      [0.025      0.975]\n",
      "-----------------------------------------------------------------------------------\n",
      "const               0.6770      0.094      7.213      0.000       0.485       0.869\n",
      "BME280_Humidity    -0.5439      0.211     -2.578      0.015      -0.976      -0.112\n",
      "==============================================================================\n",
      "Omnibus:                        7.913   Durbin-Watson:                   2.741\n",
      "Prob(Omnibus):                  0.019   Jarque-Bera (JB):                2.359\n",
      "Skew:                           0.232   Prob(JB):                        0.307\n",
      "Kurtosis:                       1.707   Cond. No.                         4.52\n",
      "==============================================================================\n",
      "\n",
      "Warnings:\n",
      "[1] Standard Errors assume that the covariance matrix of the errors is correctly specified.\n"
     ]
    }
   ],
   "source": [
    "print(lm_4.summary())"
   ]
  },
  {
   "cell_type": "code",
   "execution_count": 95,
   "metadata": {},
   "outputs": [
    {
     "data": {
      "text/html": [
       "<div>\n",
       "<style scoped>\n",
       "    .dataframe tbody tr th:only-of-type {\n",
       "        vertical-align: middle;\n",
       "    }\n",
       "\n",
       "    .dataframe tbody tr th {\n",
       "        vertical-align: top;\n",
       "    }\n",
       "\n",
       "    .dataframe thead th {\n",
       "        text-align: right;\n",
       "    }\n",
       "</style>\n",
       "<table border=\"1\" class=\"dataframe\">\n",
       "  <thead>\n",
       "    <tr style=\"text-align: right;\">\n",
       "      <th></th>\n",
       "      <th>const</th>\n",
       "      <th>BME280_Humidity</th>\n",
       "    </tr>\n",
       "  </thead>\n",
       "  <tbody>\n",
       "    <tr>\n",
       "      <th>6</th>\n",
       "      <td>1.0</td>\n",
       "      <td>0.707857</td>\n",
       "    </tr>\n",
       "    <tr>\n",
       "      <th>36</th>\n",
       "      <td>1.0</td>\n",
       "      <td>0.271017</td>\n",
       "    </tr>\n",
       "    <tr>\n",
       "      <th>37</th>\n",
       "      <td>1.0</td>\n",
       "      <td>0.295665</td>\n",
       "    </tr>\n",
       "    <tr>\n",
       "      <th>28</th>\n",
       "      <td>1.0</td>\n",
       "      <td>0.168684</td>\n",
       "    </tr>\n",
       "    <tr>\n",
       "      <th>43</th>\n",
       "      <td>1.0</td>\n",
       "      <td>0.403169</td>\n",
       "    </tr>\n",
       "  </tbody>\n",
       "</table>\n",
       "</div>"
      ],
      "text/plain": [
       "    const  BME280_Humidity\n",
       "6     1.0         0.707857\n",
       "36    1.0         0.271017\n",
       "37    1.0         0.295665\n",
       "28    1.0         0.168684\n",
       "43    1.0         0.403169"
      ]
     },
     "execution_count": 95,
     "metadata": {},
     "output_type": "execute_result"
    }
   ],
   "source": [
    "x_test=x_test.drop([\"BME280_Pressure\",\"BME280_Temp\",\"Intensity\"],1)\n",
    "x_test_sm = sm.add_constant(x_test)\n",
    "x_test_sm.head()"
   ]
  },
  {
   "cell_type": "code",
   "execution_count": 96,
   "metadata": {},
   "outputs": [],
   "source": [
    "y_pred=lm_4.predict(x_test_sm)"
   ]
  },
  {
   "cell_type": "code",
   "execution_count": 97,
   "metadata": {},
   "outputs": [],
   "source": [
    "c=[i for i in range(1,len(y_pred)+1)]"
   ]
  },
  {
   "cell_type": "code",
   "execution_count": 98,
   "metadata": {},
   "outputs": [
    {
     "data": {
      "text/plain": [
       "Text(0, 0.5, 'Potato Area')"
      ]
     },
     "execution_count": 98,
     "metadata": {},
     "output_type": "execute_result"
    },
    {
     "data": {
      "image/png": "[encoded data removed]",
      "text/plain": [
       "<Figure size 432x288 with 1 Axes>"
      ]
     },
     "metadata": {
      "needs_background": "light"
     },
     "output_type": "display_data"
    }
   ],
   "source": [
    "fig = plt.figure()\n",
    "plt.plot(c,y_test, color=\"blue\", linewidth=2.5, linestyle=\"-\")     #Plotting Actual\n",
    "plt.plot(c,y_pred, color=\"red\",  linewidth=2.5, linestyle=\"-\")\n",
    "fig.suptitle('Actual and Predicted', fontsize=20)              # Plot heading \n",
    "plt.xlabel('Index', fontsize=18)                               # X-label\n",
    "plt.ylabel('Potato Area', fontsize=16)"
   ]
  },
  {
   "cell_type": "code",
   "execution_count": 99,
   "metadata": {},
   "outputs": [
    {
     "data": {
      "text/plain": [
       "Text(0, 0.5, 'ytest-ypred')"
      ]
     },
     "execution_count": 99,
     "metadata": {},
     "output_type": "execute_result"
    },
    {
     "data": {
      "image/png": "[encoded data removed]",
      "text/plain": [
       "<Figure size 432x288 with 1 Axes>"
      ]
     },
     "metadata": {
      "needs_background": "light"
     },
     "output_type": "display_data"
    }
   ],
   "source": [
    "fig = plt.figure()\n",
    "plt.plot(c,y_test-y_pred, color=\"blue\", linewidth=2.5, linestyle=\"-\")\n",
    "fig.suptitle('Error Terms', fontsize=20)              # Plot heading \n",
    "plt.xlabel('Index', fontsize=18)                      # X-label\n",
    "plt.ylabel('ytest-ypred', fontsize=16) "
   ]
  },
  {
   "cell_type": "code",
   "execution_count": 100,
   "metadata": {},
   "outputs": [
    {
     "data": {
      "text/plain": [
       "0.09267213452726664"
      ]
     },
     "execution_count": 100,
     "metadata": {},
     "output_type": "execute_result"
    }
   ],
   "source": [
    "mse=mean_squared_error(y_test,y_pred)\n",
    "mse"
   ]
  },
  {
   "cell_type": "code",
   "execution_count": 101,
   "metadata": {},
   "outputs": [
    {
     "data": {
      "text/plain": [
       "0.19432641358801106"
      ]
     },
     "execution_count": 101,
     "metadata": {},
     "output_type": "execute_result"
    }
   ],
   "source": [
    "r2s=r2_score(y_test,y_pred)\n",
    "r2s"
   ]
  },
  {
   "cell_type": "code",
   "execution_count": null,
   "metadata": {},
   "outputs": [],
   "source": []
  }
 ],
 "metadata": {
  "kernelspec": {
   "display_name": "Python 3",
   "language": "python",
   "name": "python3"
  },
  "language_info": {
   "codemirror_mode": {
    "name": "ipython",
    "version": 3
   },
   "file_extension": ".py",
   "mimetype": "text/x-python",
   "name": "python",
   "nbconvert_exporter": "python",
   "pygments_lexer": "ipython3",
   "version": "3.6.9"
  }
 },
 "nbformat": 4,
 "nbformat_minor": 2
}
