{
 "cells": [
  {
   "cell_type": "code",
   "execution_count": 100,
   "metadata": {},
   "outputs": [],
   "source": [
    "import pandas as pd \n",
    "import matplotlib.pyplot as plt\n",
    "import glob\n",
    "import numpy as np\n",
    "from datetime import datetime"
   ]
  },
  {
   "cell_type": "markdown",
   "metadata": {},
   "source": [
    "# Reading Sensor Values"
   ]
  },
  {
   "cell_type": "code",
   "execution_count": 101,
   "metadata": {},
   "outputs": [],
   "source": [
    "with open('ss_north_field_env_data.txt.txt') as f:\n",
    "    sensor_values = [line.rstrip() for line in f]"
   ]
  },
  {
   "cell_type": "code",
   "execution_count": 102,
   "metadata": {},
   "outputs": [],
   "source": [
    "df=pd.DataFrame()"
   ]
  },
  {
   "cell_type": "markdown",
   "metadata": {},
   "source": [
    "# Creating a DataFrame object with Sensor Values"
   ]
  },
  {
   "cell_type": "code",
   "execution_count": 103,
   "metadata": {},
   "outputs": [],
   "source": [
    "for line in sensor_values:\n",
    "    s=line.split(',')\n",
    "    dic = {}\n",
    "    dic['Date']=s[0][0:19]\n",
    "    for i in range(1,len(s)):\n",
    "        a=s[i].split(':')\n",
    "        a[0]=a[0].rstrip()\n",
    "        a[0]=a[0].lstrip()\n",
    "        a[1]=a[1].rstrip()\n",
    "        a[1]=a[1].lstrip()\n",
    "        dic[a[0]]=a[1]\n",
    "    if int(dic['Intensity']) > 100:\n",
    "        df=df.append(dic,ignore_index=True)"
   ]
  },
  {
   "cell_type": "code",
   "execution_count": 104,
   "metadata": {},
   "outputs": [
    {
     "data": {
      "text/html": [
       "<div>\n",
       "<style scoped>\n",
       "    .dataframe tbody tr th:only-of-type {\n",
       "        vertical-align: middle;\n",
       "    }\n",
       "\n",
       "    .dataframe tbody tr th {\n",
       "        vertical-align: top;\n",
       "    }\n",
       "\n",
       "    .dataframe thead th {\n",
       "        text-align: right;\n",
       "    }\n",
       "</style>\n",
       "<table border=\"1\" class=\"dataframe\">\n",
       "  <thead>\n",
       "    <tr style=\"text-align: right;\">\n",
       "      <th></th>\n",
       "      <th>BME280_Humidity</th>\n",
       "      <th>BME280_Pressure</th>\n",
       "      <th>BME280_Temp</th>\n",
       "      <th>DS18B20_Temp</th>\n",
       "      <th>Date</th>\n",
       "      <th>Intensity</th>\n",
       "    </tr>\n",
       "  </thead>\n",
       "  <tbody>\n",
       "    <tr>\n",
       "      <th>0</th>\n",
       "      <td>66.70</td>\n",
       "      <td>900.24</td>\n",
       "      <td>15.74</td>\n",
       "      <td>10.06</td>\n",
       "      <td>2019-10-26-07-25-58</td>\n",
       "      <td>155</td>\n",
       "    </tr>\n",
       "    <tr>\n",
       "      <th>1</th>\n",
       "      <td>66.72</td>\n",
       "      <td>900.29</td>\n",
       "      <td>15.74</td>\n",
       "      <td>10.88</td>\n",
       "      <td>2019-10-26-07-25-59</td>\n",
       "      <td>215</td>\n",
       "    </tr>\n",
       "    <tr>\n",
       "      <th>2</th>\n",
       "      <td>66.55</td>\n",
       "      <td>900.40</td>\n",
       "      <td>16.02</td>\n",
       "      <td>10.94</td>\n",
       "      <td>2019-10-26-07-41-07</td>\n",
       "      <td>215</td>\n",
       "    </tr>\n",
       "    <tr>\n",
       "      <th>3</th>\n",
       "      <td>66.10</td>\n",
       "      <td>900.59</td>\n",
       "      <td>16.60</td>\n",
       "      <td>11.44</td>\n",
       "      <td>2019-10-26-07-56-14</td>\n",
       "      <td>280</td>\n",
       "    </tr>\n",
       "    <tr>\n",
       "      <th>4</th>\n",
       "      <td>65.65</td>\n",
       "      <td>900.51</td>\n",
       "      <td>17.04</td>\n",
       "      <td>12.25</td>\n",
       "      <td>2019-10-26-08-11-21</td>\n",
       "      <td>431</td>\n",
       "    </tr>\n",
       "  </tbody>\n",
       "</table>\n",
       "</div>"
      ],
      "text/plain": [
       "  BME280_Humidity BME280_Pressure BME280_Temp DS18B20_Temp  \\\n",
       "0           66.70          900.24       15.74        10.06   \n",
       "1           66.72          900.29       15.74        10.88   \n",
       "2           66.55          900.40       16.02        10.94   \n",
       "3           66.10          900.59       16.60        11.44   \n",
       "4           65.65          900.51       17.04        12.25   \n",
       "\n",
       "                  Date Intensity  \n",
       "0  2019-10-26-07-25-58       155  \n",
       "1  2019-10-26-07-25-59       215  \n",
       "2  2019-10-26-07-41-07       215  \n",
       "3  2019-10-26-07-56-14       280  \n",
       "4  2019-10-26-08-11-21       431  "
      ]
     },
     "execution_count": 104,
     "metadata": {},
     "output_type": "execute_result"
    }
   ],
   "source": [
    "df.head()"
   ]
  },
  {
   "cell_type": "markdown",
   "metadata": {},
   "source": [
    "# Changing Data-Types of each Column"
   ]
  },
  {
   "cell_type": "code",
   "execution_count": 105,
   "metadata": {},
   "outputs": [],
   "source": [
    "df['Date']=pd.to_datetime(df['Date'],format='%Y-%m-%d-%H-%M-%S')\n",
    "df['BME280_Humidity']=df['BME280_Humidity'].astype(float)\n",
    "df['BME280_Pressure']=df['BME280_Pressure'].astype(float)\n",
    "df['DS18B20_Temp']=df['DS18B20_Temp'].astype(float)\n",
    "df['Intensity']=df['Intensity'].astype(float)\n",
    "df['BME280_Temp']=df['BME280_Temp'].astype(float)"
   ]
  },
  {
   "cell_type": "code",
   "execution_count": 106,
   "metadata": {},
   "outputs": [
    {
     "name": "stdout",
     "output_type": "stream",
     "text": [
      "<class 'pandas.core.frame.DataFrame'>\n",
      "RangeIndex: 983 entries, 0 to 982\n",
      "Data columns (total 6 columns):\n",
      " #   Column           Non-Null Count  Dtype         \n",
      "---  ------           --------------  -----         \n",
      " 0   BME280_Humidity  983 non-null    float64       \n",
      " 1   BME280_Pressure  983 non-null    float64       \n",
      " 2   BME280_Temp      983 non-null    float64       \n",
      " 3   DS18B20_Temp     983 non-null    float64       \n",
      " 4   Date             983 non-null    datetime64[ns]\n",
      " 5   Intensity        983 non-null    float64       \n",
      "dtypes: datetime64[ns](1), float64(5)\n",
      "memory usage: 46.2 KB\n"
     ]
    }
   ],
   "source": [
    "df.info()"
   ]
  },
  {
   "cell_type": "markdown",
   "metadata": {},
   "source": [
    "# Reading the images between 1pm to 4pm "
   ]
  },
  {
   "cell_type": "code",
   "execution_count": 107,
   "metadata": {},
   "outputs": [],
   "source": [
    "image_file_names=glob.glob(\"./dataset/*.jpg\")\n",
    "image_file_names.sort()"
   ]
  },
  {
   "cell_type": "code",
   "execution_count": 108,
   "metadata": {},
   "outputs": [
    {
     "data": {
      "text/plain": [
       "'./dataset/image2019-10-26-13-11-25.jpg'"
      ]
     },
     "execution_count": 108,
     "metadata": {},
     "output_type": "execute_result"
    }
   ],
   "source": [
    "image_file_names[0]"
   ]
  },
  {
   "cell_type": "code",
   "execution_count": 109,
   "metadata": {},
   "outputs": [],
   "source": [
    "dates=df.Date\n",
    "dates=np.array(dates)"
   ]
  },
  {
   "cell_type": "markdown",
   "metadata": {},
   "source": [
    "# Reading Dates of Sensor Values and Images"
   ]
  },
  {
   "cell_type": "code",
   "execution_count": 110,
   "metadata": {},
   "outputs": [],
   "source": [
    "sensor_dates=[]\n",
    "image_dates=[]\n",
    "for i in range(len(dates)):\n",
    "    s=str(dates[i]).split('T')\n",
    "    x=list(s[0]+\"-\"+s[1][0:8])\n",
    "    x[13]='-'\n",
    "    x[16]='-'\n",
    "    sensor_dates.append(''.join(x))\n",
    "\n",
    "for filename in image_file_names:\n",
    "    s=filename.lstrip('./dataset/image').rstrip('.jpg')[0:19]\n",
    "    image_dates.append(s)"
   ]
  },
  {
   "cell_type": "code",
   "execution_count": 111,
   "metadata": {},
   "outputs": [
    {
     "data": {
      "text/plain": [
       "('2019-10-26-07-25-58', '2019-10-26-13-11-25')"
      ]
     },
     "execution_count": 111,
     "metadata": {},
     "output_type": "execute_result"
    }
   ],
   "source": [
    "sensor_dates[0] ,image_dates[0]"
   ]
  },
  {
   "cell_type": "code",
   "execution_count": 112,
   "metadata": {},
   "outputs": [
    {
     "data": {
      "text/plain": [
       "(983, 6)"
      ]
     },
     "execution_count": 112,
     "metadata": {},
     "output_type": "execute_result"
    }
   ],
   "source": [
    "df.shape"
   ]
  },
  {
   "cell_type": "code",
   "execution_count": 113,
   "metadata": {},
   "outputs": [],
   "source": [
    "spinach_pixel_vals=np.array([0 for i in range(df.shape[0])])\n",
    "potato_pixel_vals=np.array([0 for i in range(df.shape[0])])"
   ]
  },
  {
   "cell_type": "markdown",
   "metadata": {},
   "source": [
    "# Spinach Pixel Count"
   ]
  },
  {
   "cell_type": "code",
   "execution_count": 114,
   "metadata": {},
   "outputs": [],
   "source": [
    "def spinach_pixel_count(im,x,diff,z):\n",
    "    im=im[500:2300,1:1200]\n",
    "    count=0;\n",
    "    for i in range(im.shape[0]):\n",
    "        for j in range(im.shape[1]):\n",
    "            if int(im[i][j][0] + diff[0]) > (x[0]+z[0]) and int(im[i][j][1] + diff[1]) > (x[1]+z[1]) and int(im[i][j][2] + diff[2]) > (x[2]+z[2]) :\n",
    "                count+=1;\n",
    "    return count"
   ]
  },
  {
   "cell_type": "markdown",
   "metadata": {},
   "source": [
    "# Potato Pixel Count"
   ]
  },
  {
   "cell_type": "code",
   "execution_count": 115,
   "metadata": {},
   "outputs": [],
   "source": [
    "def potato_pixel_count(im,x,diff,z):\n",
    "    im=im[650:2163,1504:2608]\n",
    "    count=0;\n",
    "    for i in range(im.shape[0]):\n",
    "        for j in range(im.shape[1]):\n",
    "            if int(im[i][j][0] + diff[0]) > (x[0]+z[0]) and int(im[i][j][1] + diff[1]) > (x[1]+z[1]) and int(im[i][j][2] + diff[2]) > (x[2]+z[2]) :\n",
    "                count+=1;\n",
    "    return count"
   ]
  },
  {
   "cell_type": "markdown",
   "metadata": {},
   "source": [
    "# Funtion to Calculate the average [r,g,b] values of a window where first time Spinach Leaf appeared."
   ]
  },
  {
   "cell_type": "code",
   "execution_count": 116,
   "metadata": {},
   "outputs": [],
   "source": [
    "def avgofcrop(im):\n",
    "    r=0.0;\n",
    "    g=0.0;\n",
    "    b=0.0;\n",
    "    im=im[920:930,442:450]\n",
    "    for i in range(im.shape[0]):\n",
    "        for j in range(im.shape[1]):\n",
    "            r+=int(im[i][j][0])\n",
    "            g+=int(im[i][j][1])\n",
    "            b+=int(im[i][j][2])\n",
    "            \n",
    "    tp = (im.shape[0] * im.shape[1])\n",
    "    l=[]\n",
    "    l.append(r/tp)\n",
    "    l.append(g/tp)\n",
    "    l.append(b/tp)\n",
    "    return l"
   ]
  },
  {
   "cell_type": "markdown",
   "metadata": {},
   "source": [
    "# Function to Calculate the average [r,g,b] values of a window where in the end soil was present"
   ]
  },
  {
   "cell_type": "code",
   "execution_count": 117,
   "metadata": {},
   "outputs": [],
   "source": [
    "def avgofsoil(im):\n",
    "    r=0.0;\n",
    "    g=0.0;\n",
    "    b=0.0;\n",
    "    im=im[1780:1920,200:400]\n",
    "    for i in range(im.shape[0]):\n",
    "        for j in range(im.shape[1]):\n",
    "            r+=int(im[i][j][0])\n",
    "            g+=int(im[i][j][1])\n",
    "            b+=int(im[i][j][2])\n",
    "            \n",
    "    tp = (im.shape[0] * im.shape[1])\n",
    "    l=[]\n",
    "    l.append(r/tp)\n",
    "    l.append(g/tp)\n",
    "    l.append(b/tp)\n",
    "    return l"
   ]
  },
  {
   "cell_type": "markdown",
   "metadata": {},
   "source": [
    "# Function to Calculate difference between [r,g,b] values of crop and soil"
   ]
  },
  {
   "cell_type": "code",
   "execution_count": 118,
   "metadata": {},
   "outputs": [],
   "source": [
    "def difference(a,b):\n",
    "    ans=[]\n",
    "    ans.append(abs(a[0]-b[0]))\n",
    "    ans.append(abs(a[1]-b[1]))\n",
    "    ans.append(abs(a[2]-b[2]))\n",
    "    return ans;"
   ]
  },
  {
   "cell_type": "code",
   "execution_count": 119,
   "metadata": {},
   "outputs": [],
   "source": [
    "valid=np.array([0 for i in range(df.shape[0])])"
   ]
  },
  {
   "cell_type": "code",
   "execution_count": 120,
   "metadata": {},
   "outputs": [],
   "source": [
    "z=[40,40,40]\n",
    "for idx,filedate in enumerate(sensor_dates): \n",
    "    if filedate in image_dates:\n",
    "        filename='./dataset/image'+filedate+'.jpg'\n",
    "        image=plt.imread(filename)\n",
    "        x=avgofcrop(image)\n",
    "        y=avgofsoil(image)\n",
    "        if(sum(x) < sum(y)):\n",
    "            continue\n",
    "        diff=difference(x,y)\n",
    "        ans1=spinach_pixel_count(image,x,diff,z)\n",
    "        ans2=potato_pixel_count(image,x,diff,z)\n",
    "        spinach_pixel_vals[idx]=ans1\n",
    "        potato_pixel_vals[idx]=ans2\n",
    "        valid[idx]=1"
   ]
  },
  {
   "cell_type": "code",
   "execution_count": 121,
   "metadata": {},
   "outputs": [],
   "source": [
    "df['Spinach_Area']=spinach_pixel_vals\n",
    "df['Potato_Area']=potato_pixel_vals"
   ]
  },
  {
   "cell_type": "code",
   "execution_count": 122,
   "metadata": {},
   "outputs": [],
   "source": [
    "df['Valid']=valid\n"
   ]
  },
  {
   "cell_type": "code",
   "execution_count": 124,
   "metadata": {},
   "outputs": [
    {
     "data": {
      "text/html": [
       "<div>\n",
       "<style scoped>\n",
       "    .dataframe tbody tr th:only-of-type {\n",
       "        vertical-align: middle;\n",
       "    }\n",
       "\n",
       "    .dataframe tbody tr th {\n",
       "        vertical-align: top;\n",
       "    }\n",
       "\n",
       "    .dataframe thead th {\n",
       "        text-align: right;\n",
       "    }\n",
       "</style>\n",
       "<table border=\"1\" class=\"dataframe\">\n",
       "  <thead>\n",
       "    <tr style=\"text-align: right;\">\n",
       "      <th></th>\n",
       "      <th>BME280_Humidity</th>\n",
       "      <th>BME280_Pressure</th>\n",
       "      <th>BME280_Temp</th>\n",
       "      <th>DS18B20_Temp</th>\n",
       "      <th>Date</th>\n",
       "      <th>Intensity</th>\n",
       "      <th>Spinach_Area</th>\n",
       "      <th>Potato_Area</th>\n",
       "      <th>Valid</th>\n",
       "    </tr>\n",
       "  </thead>\n",
       "  <tbody>\n",
       "    <tr>\n",
       "      <th>0</th>\n",
       "      <td>66.70</td>\n",
       "      <td>900.24</td>\n",
       "      <td>15.74</td>\n",
       "      <td>10.06</td>\n",
       "      <td>2019-10-26 07:25:58</td>\n",
       "      <td>155.0</td>\n",
       "      <td>0</td>\n",
       "      <td>0</td>\n",
       "      <td>0</td>\n",
       "    </tr>\n",
       "    <tr>\n",
       "      <th>1</th>\n",
       "      <td>66.72</td>\n",
       "      <td>900.29</td>\n",
       "      <td>15.74</td>\n",
       "      <td>10.88</td>\n",
       "      <td>2019-10-26 07:25:59</td>\n",
       "      <td>215.0</td>\n",
       "      <td>0</td>\n",
       "      <td>0</td>\n",
       "      <td>0</td>\n",
       "    </tr>\n",
       "    <tr>\n",
       "      <th>2</th>\n",
       "      <td>66.55</td>\n",
       "      <td>900.40</td>\n",
       "      <td>16.02</td>\n",
       "      <td>10.94</td>\n",
       "      <td>2019-10-26 07:41:07</td>\n",
       "      <td>215.0</td>\n",
       "      <td>0</td>\n",
       "      <td>0</td>\n",
       "      <td>0</td>\n",
       "    </tr>\n",
       "    <tr>\n",
       "      <th>3</th>\n",
       "      <td>66.10</td>\n",
       "      <td>900.59</td>\n",
       "      <td>16.60</td>\n",
       "      <td>11.44</td>\n",
       "      <td>2019-10-26 07:56:14</td>\n",
       "      <td>280.0</td>\n",
       "      <td>0</td>\n",
       "      <td>0</td>\n",
       "      <td>0</td>\n",
       "    </tr>\n",
       "    <tr>\n",
       "      <th>4</th>\n",
       "      <td>65.65</td>\n",
       "      <td>900.51</td>\n",
       "      <td>17.04</td>\n",
       "      <td>12.25</td>\n",
       "      <td>2019-10-26 08:11:21</td>\n",
       "      <td>431.0</td>\n",
       "      <td>0</td>\n",
       "      <td>0</td>\n",
       "      <td>0</td>\n",
       "    </tr>\n",
       "    <tr>\n",
       "      <th>5</th>\n",
       "      <td>64.49</td>\n",
       "      <td>900.51</td>\n",
       "      <td>18.28</td>\n",
       "      <td>13.12</td>\n",
       "      <td>2019-10-26 08:26:28</td>\n",
       "      <td>700.0</td>\n",
       "      <td>0</td>\n",
       "      <td>0</td>\n",
       "      <td>0</td>\n",
       "    </tr>\n",
       "    <tr>\n",
       "      <th>6</th>\n",
       "      <td>63.62</td>\n",
       "      <td>900.78</td>\n",
       "      <td>19.22</td>\n",
       "      <td>13.19</td>\n",
       "      <td>2019-10-26 08:41:36</td>\n",
       "      <td>1024.0</td>\n",
       "      <td>0</td>\n",
       "      <td>0</td>\n",
       "      <td>0</td>\n",
       "    </tr>\n",
       "    <tr>\n",
       "      <th>7</th>\n",
       "      <td>62.92</td>\n",
       "      <td>900.85</td>\n",
       "      <td>20.22</td>\n",
       "      <td>14.25</td>\n",
       "      <td>2019-10-26 08:56:43</td>\n",
       "      <td>1126.0</td>\n",
       "      <td>0</td>\n",
       "      <td>0</td>\n",
       "      <td>0</td>\n",
       "    </tr>\n",
       "    <tr>\n",
       "      <th>8</th>\n",
       "      <td>61.86</td>\n",
       "      <td>900.97</td>\n",
       "      <td>20.94</td>\n",
       "      <td>15.12</td>\n",
       "      <td>2019-10-26 09:11:50</td>\n",
       "      <td>1369.0</td>\n",
       "      <td>0</td>\n",
       "      <td>0</td>\n",
       "      <td>0</td>\n",
       "    </tr>\n",
       "    <tr>\n",
       "      <th>9</th>\n",
       "      <td>61.10</td>\n",
       "      <td>900.95</td>\n",
       "      <td>21.94</td>\n",
       "      <td>16.19</td>\n",
       "      <td>2019-10-26 09:26:57</td>\n",
       "      <td>1509.0</td>\n",
       "      <td>0</td>\n",
       "      <td>0</td>\n",
       "      <td>0</td>\n",
       "    </tr>\n",
       "    <tr>\n",
       "      <th>10</th>\n",
       "      <td>59.68</td>\n",
       "      <td>900.95</td>\n",
       "      <td>23.26</td>\n",
       "      <td>16.75</td>\n",
       "      <td>2019-10-26 09:42:05</td>\n",
       "      <td>1695.0</td>\n",
       "      <td>0</td>\n",
       "      <td>0</td>\n",
       "      <td>0</td>\n",
       "    </tr>\n",
       "    <tr>\n",
       "      <th>11</th>\n",
       "      <td>53.02</td>\n",
       "      <td>900.56</td>\n",
       "      <td>29.08</td>\n",
       "      <td>22.31</td>\n",
       "      <td>2019-10-26 10:40:11</td>\n",
       "      <td>2664.0</td>\n",
       "      <td>0</td>\n",
       "      <td>0</td>\n",
       "      <td>0</td>\n",
       "    </tr>\n",
       "    <tr>\n",
       "      <th>12</th>\n",
       "      <td>53.02</td>\n",
       "      <td>900.56</td>\n",
       "      <td>29.10</td>\n",
       "      <td>21.94</td>\n",
       "      <td>2019-10-26 10:40:12</td>\n",
       "      <td>7315.0</td>\n",
       "      <td>0</td>\n",
       "      <td>0</td>\n",
       "      <td>0</td>\n",
       "    </tr>\n",
       "    <tr>\n",
       "      <th>13</th>\n",
       "      <td>46.64</td>\n",
       "      <td>900.40</td>\n",
       "      <td>34.80</td>\n",
       "      <td>24.19</td>\n",
       "      <td>2019-10-26 10:55:19</td>\n",
       "      <td>7320.0</td>\n",
       "      <td>0</td>\n",
       "      <td>0</td>\n",
       "      <td>0</td>\n",
       "    </tr>\n",
       "    <tr>\n",
       "      <th>14</th>\n",
       "      <td>44.91</td>\n",
       "      <td>900.15</td>\n",
       "      <td>37.15</td>\n",
       "      <td>23.69</td>\n",
       "      <td>2019-10-26 11:10:27</td>\n",
       "      <td>6793.0</td>\n",
       "      <td>0</td>\n",
       "      <td>0</td>\n",
       "      <td>0</td>\n",
       "    </tr>\n",
       "    <tr>\n",
       "      <th>15</th>\n",
       "      <td>44.29</td>\n",
       "      <td>899.92</td>\n",
       "      <td>38.04</td>\n",
       "      <td>25.56</td>\n",
       "      <td>2019-10-26 11:25:34</td>\n",
       "      <td>6691.0</td>\n",
       "      <td>0</td>\n",
       "      <td>0</td>\n",
       "      <td>0</td>\n",
       "    </tr>\n",
       "    <tr>\n",
       "      <th>16</th>\n",
       "      <td>43.23</td>\n",
       "      <td>899.69</td>\n",
       "      <td>39.25</td>\n",
       "      <td>26.25</td>\n",
       "      <td>2019-10-26 11:40:41</td>\n",
       "      <td>6645.0</td>\n",
       "      <td>0</td>\n",
       "      <td>0</td>\n",
       "      <td>0</td>\n",
       "    </tr>\n",
       "    <tr>\n",
       "      <th>17</th>\n",
       "      <td>43.50</td>\n",
       "      <td>899.55</td>\n",
       "      <td>39.35</td>\n",
       "      <td>25.06</td>\n",
       "      <td>2019-10-26 11:55:48</td>\n",
       "      <td>6382.0</td>\n",
       "      <td>0</td>\n",
       "      <td>0</td>\n",
       "      <td>0</td>\n",
       "    </tr>\n",
       "    <tr>\n",
       "      <th>18</th>\n",
       "      <td>44.27</td>\n",
       "      <td>899.50</td>\n",
       "      <td>38.50</td>\n",
       "      <td>24.38</td>\n",
       "      <td>2019-10-26 12:10:56</td>\n",
       "      <td>5925.0</td>\n",
       "      <td>0</td>\n",
       "      <td>0</td>\n",
       "      <td>0</td>\n",
       "    </tr>\n",
       "    <tr>\n",
       "      <th>19</th>\n",
       "      <td>44.94</td>\n",
       "      <td>899.38</td>\n",
       "      <td>38.15</td>\n",
       "      <td>23.62</td>\n",
       "      <td>2019-10-26 12:26:03</td>\n",
       "      <td>6240.0</td>\n",
       "      <td>0</td>\n",
       "      <td>0</td>\n",
       "      <td>0</td>\n",
       "    </tr>\n",
       "    <tr>\n",
       "      <th>20</th>\n",
       "      <td>49.21</td>\n",
       "      <td>899.26</td>\n",
       "      <td>34.41</td>\n",
       "      <td>21.06</td>\n",
       "      <td>2019-10-26 12:41:10</td>\n",
       "      <td>6290.0</td>\n",
       "      <td>0</td>\n",
       "      <td>0</td>\n",
       "      <td>0</td>\n",
       "    </tr>\n",
       "    <tr>\n",
       "      <th>21</th>\n",
       "      <td>53.10</td>\n",
       "      <td>899.03</td>\n",
       "      <td>31.30</td>\n",
       "      <td>23.12</td>\n",
       "      <td>2019-10-26 12:56:18</td>\n",
       "      <td>2450.0</td>\n",
       "      <td>0</td>\n",
       "      <td>0</td>\n",
       "      <td>0</td>\n",
       "    </tr>\n",
       "    <tr>\n",
       "      <th>22</th>\n",
       "      <td>54.00</td>\n",
       "      <td>898.84</td>\n",
       "      <td>30.25</td>\n",
       "      <td>23.62</td>\n",
       "      <td>2019-10-26 13:11:25</td>\n",
       "      <td>2011.0</td>\n",
       "      <td>126</td>\n",
       "      <td>890</td>\n",
       "      <td>1</td>\n",
       "    </tr>\n",
       "    <tr>\n",
       "      <th>23</th>\n",
       "      <td>54.04</td>\n",
       "      <td>898.64</td>\n",
       "      <td>30.02</td>\n",
       "      <td>23.62</td>\n",
       "      <td>2019-10-26 13:26:32</td>\n",
       "      <td>1797.0</td>\n",
       "      <td>398</td>\n",
       "      <td>1413</td>\n",
       "      <td>1</td>\n",
       "    </tr>\n",
       "    <tr>\n",
       "      <th>24</th>\n",
       "      <td>53.66</td>\n",
       "      <td>898.40</td>\n",
       "      <td>29.86</td>\n",
       "      <td>23.19</td>\n",
       "      <td>2019-10-26 13:41:39</td>\n",
       "      <td>1694.0</td>\n",
       "      <td>244</td>\n",
       "      <td>962</td>\n",
       "      <td>1</td>\n",
       "    </tr>\n",
       "  </tbody>\n",
       "</table>\n",
       "</div>"
      ],
      "text/plain": [
       "    BME280_Humidity  BME280_Pressure  BME280_Temp  DS18B20_Temp  \\\n",
       "0             66.70           900.24        15.74         10.06   \n",
       "1             66.72           900.29        15.74         10.88   \n",
       "2             66.55           900.40        16.02         10.94   \n",
       "3             66.10           900.59        16.60         11.44   \n",
       "4             65.65           900.51        17.04         12.25   \n",
       "5             64.49           900.51        18.28         13.12   \n",
       "6             63.62           900.78        19.22         13.19   \n",
       "7             62.92           900.85        20.22         14.25   \n",
       "8             61.86           900.97        20.94         15.12   \n",
       "9             61.10           900.95        21.94         16.19   \n",
       "10            59.68           900.95        23.26         16.75   \n",
       "11            53.02           900.56        29.08         22.31   \n",
       "12            53.02           900.56        29.10         21.94   \n",
       "13            46.64           900.40        34.80         24.19   \n",
       "14            44.91           900.15        37.15         23.69   \n",
       "15            44.29           899.92        38.04         25.56   \n",
       "16            43.23           899.69        39.25         26.25   \n",
       "17            43.50           899.55        39.35         25.06   \n",
       "18            44.27           899.50        38.50         24.38   \n",
       "19            44.94           899.38        38.15         23.62   \n",
       "20            49.21           899.26        34.41         21.06   \n",
       "21            53.10           899.03        31.30         23.12   \n",
       "22            54.00           898.84        30.25         23.62   \n",
       "23            54.04           898.64        30.02         23.62   \n",
       "24            53.66           898.40        29.86         23.19   \n",
       "\n",
       "                  Date  Intensity  Spinach_Area  Potato_Area  Valid  \n",
       "0  2019-10-26 07:25:58      155.0             0            0      0  \n",
       "1  2019-10-26 07:25:59      215.0             0            0      0  \n",
       "2  2019-10-26 07:41:07      215.0             0            0      0  \n",
       "3  2019-10-26 07:56:14      280.0             0            0      0  \n",
       "4  2019-10-26 08:11:21      431.0             0            0      0  \n",
       "5  2019-10-26 08:26:28      700.0             0            0      0  \n",
       "6  2019-10-26 08:41:36     1024.0             0            0      0  \n",
       "7  2019-10-26 08:56:43     1126.0             0            0      0  \n",
       "8  2019-10-26 09:11:50     1369.0             0            0      0  \n",
       "9  2019-10-26 09:26:57     1509.0             0            0      0  \n",
       "10 2019-10-26 09:42:05     1695.0             0            0      0  \n",
       "11 2019-10-26 10:40:11     2664.0             0            0      0  \n",
       "12 2019-10-26 10:40:12     7315.0             0            0      0  \n",
       "13 2019-10-26 10:55:19     7320.0             0            0      0  \n",
       "14 2019-10-26 11:10:27     6793.0             0            0      0  \n",
       "15 2019-10-26 11:25:34     6691.0             0            0      0  \n",
       "16 2019-10-26 11:40:41     6645.0             0            0      0  \n",
       "17 2019-10-26 11:55:48     6382.0             0            0      0  \n",
       "18 2019-10-26 12:10:56     5925.0             0            0      0  \n",
       "19 2019-10-26 12:26:03     6240.0             0            0      0  \n",
       "20 2019-10-26 12:41:10     6290.0             0            0      0  \n",
       "21 2019-10-26 12:56:18     2450.0             0            0      0  \n",
       "22 2019-10-26 13:11:25     2011.0           126          890      1  \n",
       "23 2019-10-26 13:26:32     1797.0           398         1413      1  \n",
       "24 2019-10-26 13:41:39     1694.0           244          962      1  "
      ]
     },
     "execution_count": 124,
     "metadata": {},
     "output_type": "execute_result"
    }
   ],
   "source": [
    "df.head(25)"
   ]
  },
  {
   "cell_type": "code",
   "execution_count": 125,
   "metadata": {},
   "outputs": [],
   "source": [
    "df.to_csv('Weather_vs_Pixel_Area.csv')"
   ]
  },
  {
   "cell_type": "code",
   "execution_count": null,
   "metadata": {},
   "outputs": [],
   "source": []
  }
 ],
 "metadata": {
  "kernelspec": {
   "display_name": "Python 3",
   "language": "python",
   "name": "python3"
  },
  "language_info": {
   "codemirror_mode": {
    "name": "ipython",
    "version": 3
   },
   "file_extension": ".py",
   "mimetype": "text/x-python",
   "name": "python",
   "nbconvert_exporter": "python",
   "pygments_lexer": "ipython3",
   "version": "3.6.9"
  }
 },
 "nbformat": 4,
 "nbformat_minor": 2
}
