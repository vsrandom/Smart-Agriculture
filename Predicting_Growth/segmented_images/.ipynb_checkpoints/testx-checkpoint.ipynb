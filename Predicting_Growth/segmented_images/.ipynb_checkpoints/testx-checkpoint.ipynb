{
 "cells": [
  {
   "cell_type": "code",
   "execution_count": 46,
   "metadata": {},
   "outputs": [
    {
     "data": {
      "text/plain": [
       "'./ss_field/images/image2019-11-14-14-32-07.jpg'"
      ]
     },
     "execution_count": 46,
     "metadata": {},
     "output_type": "execute_result"
    }
   ],
   "source": [
    "import glob\n",
    "fnames=glob.glob(\"./ss_field/images/*.jpg\")\n",
    "fnames[0]"
   ]
  },
  {
   "cell_type": "code",
   "execution_count": 47,
   "metadata": {},
   "outputs": [],
   "source": [
    "fnames.sort()"
   ]
  },
  {
   "cell_type": "code",
   "execution_count": 48,
   "metadata": {},
   "outputs": [
    {
     "data": {
      "text/plain": [
       "('./ss_field/images/image2019-10-26-07-25-59.jpg', 952)"
      ]
     },
     "execution_count": 48,
     "metadata": {},
     "output_type": "execute_result"
    }
   ],
   "source": [
    "fnames[0],len(fnames)"
   ]
  },
  {
   "cell_type": "code",
   "execution_count": 49,
   "metadata": {},
   "outputs": [],
   "source": [
    "import matplotlib.pyplot as plt\n",
    "from skimage.color import rgb2gray\n",
    "f=open('pixelcount.txt','w')"
   ]
  },
  {
   "cell_type": "code",
   "execution_count": 50,
   "metadata": {},
   "outputs": [],
   "source": [
    "# def count_pixels(x):\n",
    "#     t=0\n",
    "#     for i in range(x.shape[0]):\n",
    "#         for j in range(x.shape[1]):\n",
    "#             if(x[i][j]==1):\n",
    "#                 t=t+1\n",
    "                \n",
    "#     return t"
   ]
  },
  {
   "cell_type": "code",
   "execution_count": 51,
   "metadata": {},
   "outputs": [],
   "source": [
    "for filename in fnames:\n",
    "    cnt=0\n",
    "    image=plt.imread(filename)\n",
    "    gray=rgb2gray(image)\n",
    "    gray=gray[650:2163, 1504:2608]\n",
    "    grayx=gray.reshape(gray.shape[0]*gray.shape[1])\n",
    "    m=grayx.mean() + 0.1\n",
    "    for i in range(gray.shape[0]):\n",
    "        for j in range(gray.shape[1]):\n",
    "            if gray[i][j] > m:\n",
    "                gray[i][j]=1\n",
    "                cnt=cnt+1\n",
    "            else :\n",
    "                gray[i][j]=0\n",
    "                \n",
    "    f.write(str(cnt))\n",
    "    f.write('\\n')\n",
    "f.close()"
   ]
  },
  {
   "cell_type": "code",
   "execution_count": 80,
   "metadata": {},
   "outputs": [],
   "source": [
    "import pandas as pd\n"
   ]
  },
  {
   "cell_type": "code",
   "execution_count": 81,
   "metadata": {},
   "outputs": [],
   "source": [
    "with open('./ss_field/ss_north_field_env_data.txt.txt') as f:\n",
    "    lines = [line.rstrip() for line in f]"
   ]
  },
  {
   "cell_type": "code",
   "execution_count": 167,
   "metadata": {},
   "outputs": [
    {
     "data": {
      "text/plain": [
       "(['2019-10-19-01-47-38',\n",
       "  ' Intensity: 0',\n",
       "  ' DS18B20_Temp: 16.56',\n",
       "  ' BME280_Temp: 20.59',\n",
       "  ' BME280_Pressure: 897.47',\n",
       "  'BME280_Humidity: 67.69'],\n",
       " ['2019-10-25-19-39-46',\n",
       "  ' Intensity: 0',\n",
       "  ' DS18B20_Temp: 15.69',\n",
       "  ' BME280_Temp: 20.86',\n",
       "  ' BME280_Pressure: 897.51',\n",
       "  'BME280_Humidity: 67.28'])"
      ]
     },
     "execution_count": 167,
     "metadata": {},
     "output_type": "execute_result"
    }
   ],
   "source": [
    "s1=lines[0].split(',')\n",
    "s2=lines[1].split(',')\n",
    "s1,s2"
   ]
  },
  {
   "cell_type": "code",
   "execution_count": 168,
   "metadata": {},
   "outputs": [],
   "source": [
    "dict1={}\n",
    "dict1['date']=s1[0][0:10]\n",
    "for i in range(1,len(s1)):\n",
    "    a=s1[i].split(':')\n",
    "    a[0]=a[0].rstrip()\n",
    "    a[0]=a[0].lstrip()\n",
    "    a[1]=a[1].rstrip()\n",
    "    a[1]=a[1].lstrip()\n",
    "    dict1[a[0]]=a[1]"
   ]
  },
  {
   "cell_type": "code",
   "execution_count": 169,
   "metadata": {},
   "outputs": [],
   "source": [
    "dict2={}\n",
    "dict2['date']=s2[0][0:10]\n",
    "for i in range(1,len(s2)):\n",
    "    a=s2[i].split(':')\n",
    "    a[0]=a[0].rstrip()\n",
    "    a[0]=a[0].lstrip()\n",
    "    a[1]=a[1].rstrip()\n",
    "    a[1]=a[1].lstrip()\n",
    "    dict2[a[0]]=a[1]"
   ]
  },
  {
   "cell_type": "code",
   "execution_count": 170,
   "metadata": {},
   "outputs": [
    {
     "data": {
      "text/plain": [
       "{'date': '2019-10-19',\n",
       " 'Intensity': '0',\n",
       " 'DS18B20_Temp': '16.56',\n",
       " 'BME280_Temp': '20.59',\n",
       " 'BME280_Pressure': '897.47',\n",
       " 'BME280_Humidity': '67.69'}"
      ]
     },
     "execution_count": 170,
     "metadata": {},
     "output_type": "execute_result"
    }
   ],
   "source": [
    "dict1"
   ]
  },
  {
   "cell_type": "code",
   "execution_count": 171,
   "metadata": {},
   "outputs": [
    {
     "data": {
      "text/plain": [
       "{'date': '2019-10-25',\n",
       " 'Intensity': '0',\n",
       " 'DS18B20_Temp': '15.69',\n",
       " 'BME280_Temp': '20.86',\n",
       " 'BME280_Pressure': '897.51',\n",
       " 'BME280_Humidity': '67.28'}"
      ]
     },
     "execution_count": 171,
     "metadata": {},
     "output_type": "execute_result"
    }
   ],
   "source": [
    "dict2"
   ]
  },
  {
   "cell_type": "code",
   "execution_count": 172,
   "metadata": {},
   "outputs": [
    {
     "data": {
      "text/plain": [
       "dict_items([('date', '2019-10-25'), ('Intensity', '0'), ('DS18B20_Temp', '15.69'), ('BME280_Temp', '20.86'), ('BME280_Pressure', '897.51'), ('BME280_Humidity', '67.28')])"
      ]
     },
     "execution_count": 172,
     "metadata": {},
     "output_type": "execute_result"
    }
   ],
   "source": [
    "dict2.items()"
   ]
  },
  {
   "cell_type": "code",
   "execution_count": 173,
   "metadata": {},
   "outputs": [],
   "source": [
    "df=pd.DataFrame()"
   ]
  },
  {
   "cell_type": "code",
   "execution_count": 174,
   "metadata": {},
   "outputs": [],
   "source": [
    "df=df.append(dict1,ignore_index=True)"
   ]
  },
  {
   "cell_type": "code",
   "execution_count": 175,
   "metadata": {},
   "outputs": [
    {
     "data": {
      "text/html": [
       "<div>\n",
       "<style scoped>\n",
       "    .dataframe tbody tr th:only-of-type {\n",
       "        vertical-align: middle;\n",
       "    }\n",
       "\n",
       "    .dataframe tbody tr th {\n",
       "        vertical-align: top;\n",
       "    }\n",
       "\n",
       "    .dataframe thead th {\n",
       "        text-align: right;\n",
       "    }\n",
       "</style>\n",
       "<table border=\"1\" class=\"dataframe\">\n",
       "  <thead>\n",
       "    <tr style=\"text-align: right;\">\n",
       "      <th></th>\n",
       "      <th>BME280_Humidity</th>\n",
       "      <th>BME280_Pressure</th>\n",
       "      <th>BME280_Temp</th>\n",
       "      <th>DS18B20_Temp</th>\n",
       "      <th>Intensity</th>\n",
       "      <th>date</th>\n",
       "    </tr>\n",
       "  </thead>\n",
       "  <tbody>\n",
       "    <tr>\n",
       "      <th>0</th>\n",
       "      <td>67.69</td>\n",
       "      <td>897.47</td>\n",
       "      <td>20.59</td>\n",
       "      <td>16.56</td>\n",
       "      <td>0</td>\n",
       "      <td>2019-10-19</td>\n",
       "    </tr>\n",
       "  </tbody>\n",
       "</table>\n",
       "</div>"
      ],
      "text/plain": [
       "  BME280_Humidity BME280_Pressure BME280_Temp DS18B20_Temp Intensity  \\\n",
       "0           67.69          897.47       20.59        16.56         0   \n",
       "\n",
       "         date  \n",
       "0  2019-10-19  "
      ]
     },
     "execution_count": 175,
     "metadata": {},
     "output_type": "execute_result"
    }
   ],
   "source": [
    "df"
   ]
  },
  {
   "cell_type": "code",
   "execution_count": 176,
   "metadata": {},
   "outputs": [],
   "source": [
    "df=df.append(dict2,ignore_index=True)"
   ]
  },
  {
   "cell_type": "code",
   "execution_count": 177,
   "metadata": {},
   "outputs": [
    {
     "data": {
      "text/html": [
       "<div>\n",
       "<style scoped>\n",
       "    .dataframe tbody tr th:only-of-type {\n",
       "        vertical-align: middle;\n",
       "    }\n",
       "\n",
       "    .dataframe tbody tr th {\n",
       "        vertical-align: top;\n",
       "    }\n",
       "\n",
       "    .dataframe thead th {\n",
       "        text-align: right;\n",
       "    }\n",
       "</style>\n",
       "<table border=\"1\" class=\"dataframe\">\n",
       "  <thead>\n",
       "    <tr style=\"text-align: right;\">\n",
       "      <th></th>\n",
       "      <th>BME280_Humidity</th>\n",
       "      <th>BME280_Pressure</th>\n",
       "      <th>BME280_Temp</th>\n",
       "      <th>DS18B20_Temp</th>\n",
       "      <th>Intensity</th>\n",
       "      <th>date</th>\n",
       "    </tr>\n",
       "  </thead>\n",
       "  <tbody>\n",
       "    <tr>\n",
       "      <th>0</th>\n",
       "      <td>67.69</td>\n",
       "      <td>897.47</td>\n",
       "      <td>20.59</td>\n",
       "      <td>16.56</td>\n",
       "      <td>0</td>\n",
       "      <td>2019-10-19</td>\n",
       "    </tr>\n",
       "    <tr>\n",
       "      <th>1</th>\n",
       "      <td>67.28</td>\n",
       "      <td>897.51</td>\n",
       "      <td>20.86</td>\n",
       "      <td>15.69</td>\n",
       "      <td>0</td>\n",
       "      <td>2019-10-25</td>\n",
       "    </tr>\n",
       "  </tbody>\n",
       "</table>\n",
       "</div>"
      ],
      "text/plain": [
       "  BME280_Humidity BME280_Pressure BME280_Temp DS18B20_Temp Intensity  \\\n",
       "0           67.69          897.47       20.59        16.56         0   \n",
       "1           67.28          897.51       20.86        15.69         0   \n",
       "\n",
       "         date  \n",
       "0  2019-10-19  \n",
       "1  2019-10-25  "
      ]
     },
     "execution_count": 177,
     "metadata": {},
     "output_type": "execute_result"
    }
   ],
   "source": [
    "df"
   ]
  },
  {
   "cell_type": "code",
   "execution_count": 178,
   "metadata": {},
   "outputs": [
    {
     "data": {
      "text/plain": [
       "Index(['BME280_Humidity', 'BME280_Pressure', 'BME280_Temp', 'DS18B20_Temp',\n",
       "       'Intensity', 'date'],\n",
       "      dtype='object')"
      ]
     },
     "execution_count": 178,
     "metadata": {},
     "output_type": "execute_result"
    }
   ],
   "source": [
    "df.columns"
   ]
  },
  {
   "cell_type": "code",
   "execution_count": 179,
   "metadata": {},
   "outputs": [
    {
     "data": {
      "text/plain": [
       "count     2\n",
       "unique    1\n",
       "top       0\n",
       "freq      2\n",
       "Name: Intensity, dtype: object"
      ]
     },
     "execution_count": 179,
     "metadata": {},
     "output_type": "execute_result"
    }
   ],
   "source": [
    "df.Intensity.describe()"
   ]
  },
  {
   "cell_type": "code",
   "execution_count": 181,
   "metadata": {},
   "outputs": [],
   "source": [
    "df.Intensity=df.Intensity.astype(int)"
   ]
  },
  {
   "cell_type": "code",
   "execution_count": 182,
   "metadata": {},
   "outputs": [
    {
     "data": {
      "text/plain": [
       "count    2.0\n",
       "mean     0.0\n",
       "std      0.0\n",
       "min      0.0\n",
       "25%      0.0\n",
       "50%      0.0\n",
       "75%      0.0\n",
       "max      0.0\n",
       "Name: Intensity, dtype: float64"
      ]
     },
     "execution_count": 182,
     "metadata": {},
     "output_type": "execute_result"
    }
   ],
   "source": [
    "df.Intensity.describe()"
   ]
  },
  {
   "cell_type": "code",
   "execution_count": 183,
   "metadata": {},
   "outputs": [
    {
     "data": {
      "text/plain": [
       "count              2\n",
       "unique             2\n",
       "top       2019-10-25\n",
       "freq               1\n",
       "Name: date, dtype: object"
      ]
     },
     "execution_count": 183,
     "metadata": {},
     "output_type": "execute_result"
    }
   ],
   "source": [
    "df.date.describe()"
   ]
  },
  {
   "cell_type": "code",
   "execution_count": 186,
   "metadata": {},
   "outputs": [],
   "source": [
    "df['date']=pd.to_datetime(df['date'])"
   ]
  },
  {
   "cell_type": "code",
   "execution_count": 187,
   "metadata": {},
   "outputs": [
    {
     "data": {
      "text/plain": [
       "count                       2\n",
       "unique                      2\n",
       "top       2019-10-25 00:00:00\n",
       "freq                        1\n",
       "first     2019-10-19 00:00:00\n",
       "last      2019-10-25 00:00:00\n",
       "Name: date, dtype: object"
      ]
     },
     "execution_count": 187,
     "metadata": {},
     "output_type": "execute_result"
    }
   ],
   "source": [
    "df.date.describe()"
   ]
  },
  {
   "cell_type": "code",
   "execution_count": null,
   "metadata": {},
   "outputs": [],
   "source": []
  }
 ],
 "metadata": {
  "kernelspec": {
   "display_name": "Python 3",
   "language": "python",
   "name": "python3"
  },
  "language_info": {
   "codemirror_mode": {
    "name": "ipython",
    "version": 3
   },
   "file_extension": ".py",
   "mimetype": "text/x-python",
   "name": "python",
   "nbconvert_exporter": "python",
   "pygments_lexer": "ipython3",
   "version": "3.6.9"
  }
 },
 "nbformat": 4,
 "nbformat_minor": 2
}
